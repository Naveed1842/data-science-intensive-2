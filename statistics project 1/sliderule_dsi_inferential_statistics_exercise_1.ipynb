{
 "cells": [
  {
   "cell_type": "markdown",
   "metadata": {},
   "source": [
    "## What is the true normal human body temperature? \n",
    "\n",
    "#### Background\n",
    "\n",
    "The mean normal body temperature was held to be 37$^{\\circ}$C or 98.6$^{\\circ}$F for more than 120 years since it was first conceptualized and reported by Carl Wunderlich in a famous 1868 book. In 1992, this value was revised to 36.8$^{\\circ}$C or 98.2$^{\\circ}$F. \n",
    "\n",
    "#### Exercise\n",
    "In this exercise, you will analyze a dataset of human body temperatures and employ the concepts of hypothesis testing, confidence intervals, and statistical significance.\n",
    "\n",
    "Answer the following questions **in this notebook below and submit to your Github account**. \n",
    "\n",
    "1.  Is the distribution of body temperatures normal? \n",
    "    - Remember that this is a condition for the CLT, and hence the statistical tests we are using, to apply. \n",
    "2.  Is the true population mean really 98.6 degrees F?\n",
    "    - Bring out the one sample hypothesis test! In this situation, is it approriate to apply a z-test or a t-test? How will the result be different?\n",
    "3.  At what temperature should we consider someone's temperature to be \"abnormal\"?\n",
    "    - Start by computing the margin of error and confidence interval.\n",
    "4.  Is there a significant difference between males and females in normal temperature?\n",
    "    - Set up and solve for a two sample hypothesis testing.\n",
    "\n",
    "You can include written notes in notebook cells using Markdown: \n",
    "   - In the control panel at the top, choose Cell > Cell Type > Markdown\n",
    "   - Markdown syntax: http://nestacms.com/docs/creating-content/markdown-cheat-sheet\n",
    "\n",
    "#### Resources\n",
    "\n",
    "+ Information and data sources: http://www.amstat.org/publications/jse/datasets/normtemp.txt, http://www.amstat.org/publications/jse/jse_data_archive.htm\n",
    "+ Markdown syntax: http://nestacms.com/docs/creating-content/markdown-cheat-sheet\n",
    "\n",
    "****"
   ]
  },
  {
   "cell_type": "code",
   "execution_count": 4,
   "metadata": {
    "collapsed": true
   },
   "outputs": [],
   "source": [
    "import pandas as pd"
   ]
  },
  {
   "cell_type": "code",
   "execution_count": 5,
   "metadata": {
    "collapsed": false
   },
   "outputs": [],
   "source": [
    "df = pd.read_csv('data/human_body_temperature.csv')"
   ]
  },
  {
   "cell_type": "code",
   "execution_count": 100,
   "metadata": {
    "collapsed": false
   },
   "outputs": [
    {
     "data": {
      "text/html": [
       "<div>\n",
       "<table border=\"1\" class=\"dataframe\">\n",
       "  <thead>\n",
       "    <tr style=\"text-align: right;\">\n",
       "      <th></th>\n",
       "      <th>temperature</th>\n",
       "      <th>gender</th>\n",
       "      <th>heart_rate</th>\n",
       "    </tr>\n",
       "  </thead>\n",
       "  <tbody>\n",
       "    <tr>\n",
       "      <th>0</th>\n",
       "      <td>99.3</td>\n",
       "      <td>F</td>\n",
       "      <td>68</td>\n",
       "    </tr>\n",
       "    <tr>\n",
       "      <th>1</th>\n",
       "      <td>98.4</td>\n",
       "      <td>F</td>\n",
       "      <td>81</td>\n",
       "    </tr>\n",
       "    <tr>\n",
       "      <th>2</th>\n",
       "      <td>97.8</td>\n",
       "      <td>M</td>\n",
       "      <td>73</td>\n",
       "    </tr>\n",
       "    <tr>\n",
       "      <th>3</th>\n",
       "      <td>99.2</td>\n",
       "      <td>F</td>\n",
       "      <td>66</td>\n",
       "    </tr>\n",
       "    <tr>\n",
       "      <th>4</th>\n",
       "      <td>98.0</td>\n",
       "      <td>F</td>\n",
       "      <td>73</td>\n",
       "    </tr>\n",
       "  </tbody>\n",
       "</table>\n",
       "</div>"
      ],
      "text/plain": [
       "   temperature gender  heart_rate\n",
       "0         99.3      F          68\n",
       "1         98.4      F          81\n",
       "2         97.8      M          73\n",
       "3         99.2      F          66\n",
       "4         98.0      F          73"
      ]
     },
     "execution_count": 100,
     "metadata": {},
     "output_type": "execute_result"
    }
   ],
   "source": [
    "df.head(5)"
   ]
  },
  {
   "cell_type": "code",
   "execution_count": 112,
   "metadata": {
    "collapsed": true
   },
   "outputs": [],
   "source": [
    "from __future__ import print_function, division\n",
    "\n",
    "import numpy as np\n",
    "import scipy.stats as st\n",
    "\n",
    "import matplotlib.pyplot as pyplot\n",
    "import matplotlib.mlab as mlab\n",
    "from ipywidgets import interact, fixed\n",
    "from IPython.html import widgets\n",
    "\n",
    "# seed the random number generator so we all get the same results\n",
    "numpy.random.seed(17)\n",
    "\n",
    "# some nice colors from http://colorbrewer2.org/\n",
    "COLOR1 = '#7fc97f'\n",
    "COLOR2 = '#beaed4'\n",
    "COLOR3 = '#fdc086'\n",
    "COLOR4 = '#ffff99'\n",
    "COLOR5 = '#386cb0'\n",
    "\n",
    "%matplotlib inline"
   ]
  },
  {
   "cell_type": "markdown",
   "metadata": {
    "collapsed": true
   },
   "source": [
    "1. Is the distribution of body temperatures normal?\n"
   ]
  },
  {
   "cell_type": "code",
   "execution_count": 75,
   "metadata": {
    "collapsed": false,
    "scrolled": true
   },
   "outputs": [
    {
     "data": {
      "text/plain": [
       "<matplotlib.axes._subplots.AxesSubplot at 0x129b4fd0>"
      ]
     },
     "execution_count": 75,
     "metadata": {},
     "output_type": "execute_result"
    },
    {
     "data": {
      "image/png": "[encoded data removed]",
      "text/plain": [
       "<matplotlib.figure.Figure at 0x12b81ba8>"
      ]
     },
     "metadata": {},
     "output_type": "display_data"
    }
   ],
   "source": [
    "df['temperature'].hist()\n"
   ]
  },
  {
   "cell_type": "code",
   "execution_count": 118,
   "metadata": {
    "collapsed": false
   },
   "outputs": [
    {
     "data": {
      "image/png": "[encoded data removed]",
      "text/plain": [
       "<matplotlib.figure.Figure at 0x11f3ad30>"
      ]
     },
     "metadata": {},
     "output_type": "display_data"
    }
   ],
   "source": [
    "import math\n",
    "temp = df['temperature']\n",
    "mean_sample = temp.mean()\n",
    "std_sample = temp.std()\n",
    "min = temp.min()\n",
    "max = temp.max()\n",
    "sample_size = temp.size\n",
    "x = numpy.linspace(min,max)\n",
    "pyplot.plot(x,mlab.normpdf(x,mean_sample,std_sample))\n",
    "pyplot.show()"
   ]
  },
  {
   "cell_type": "code",
   "execution_count": 109,
   "metadata": {
    "collapsed": false
   },
   "outputs": [
    {
     "data": {
      "text/plain": [
       "NormaltestResult(statistic=2.7038014333192031, pvalue=0.2587479863488254)"
      ]
     },
     "execution_count": 109,
     "metadata": {},
     "output_type": "execute_result"
    }
   ],
   "source": [
    "st.mstats.normaltest(df.temperature)"
   ]
  },
  {
   "cell_type": "markdown",
   "metadata": {},
   "source": [
    "1. Answer = YES, it is a normal distribution, looking at the bell curve and also since the p-value = 0.26 > 0.05"
   ]
  },
  {
   "cell_type": "markdown",
   "metadata": {},
   "source": [
    "2) Is the true population mean really 98.6 degrees F?\n"
   ]
  },
  {
   "cell_type": "code",
   "execution_count": 207,
   "metadata": {
    "collapsed": false
   },
   "outputs": [
    {
     "name": "stdout",
     "output_type": "stream",
     "text": [
      "Standard deviation of sample distribution = 0.0643044168379\n",
      "Ideal to use z-test because sample size is > 30\n",
      "P-Value = 2.45107850706e-08\n",
      "Since p-value is less than our aplha, we reject the null hypothesis. Hence population mean is not equal to 98.6\n"
     ]
    }
   ],
   "source": [
    "# H0(Null Hypothesis test): u = 98.6\n",
    "# H1(Alternate Hypothesis test): u != 98.6\n",
    "mean_pop = 98.6\n",
    "\n",
    "# Define aplha(threshold)\n",
    "alpha = 0.05\n",
    "#Assuming H0 = true, finding the prob that mean of sample = 98.25(derived from sample)\n",
    "#Lets consider a sampling distribution \n",
    "#Since H0 = true, mean of samp dist = mean of pop 98.6\n",
    "\n",
    "# std of samp dist = std of pop/sqrt(n) = std of sample/ sqrt(n) \n",
    "std_sample_distribution = std_sample / np.sqrt(sample_size)\n",
    "print('Standard deviation of sample distribution =', std_sample_distribution)\n",
    "    \n",
    "if(sample_size > 30):\n",
    "    print('Ideal to use z-test because sample size is > 30')\n",
    "else :\n",
    "    print('Ideal to use t-test because of small sample size')\n",
    "\n",
    "p_value = st.norm.cdf(mean_sample,mean_pop,std_sample_distribution)\n",
    "print ('P-Value =',p_value)\n",
    "\n",
    "if(p_value < alpha):\n",
    "    print('Since p-value is less than our aplha, we reject the null hypothesis. Hence population mean is not equal to',mean_pop)\n",
    "else:\n",
    "    print('We accept the null hypothesis, Hence population mean is equal to',mean_pop)\n",
    "\n",
    "#z-score = 98.25 - 98.6 / 0.064 = -5.4\n",
    "#which means it is 5.4 standard deviations away from the mean"
   ]
  },
  {
   "cell_type": "markdown",
   "metadata": {},
   "source": [
    "3) At what temperature should we consider someone's temperature to be \"abnormal\"?"
   ]
  },
  {
   "cell_type": "code",
   "execution_count": 164,
   "metadata": {
    "collapsed": false
   },
   "outputs": [
    {
     "name": "stdout",
     "output_type": "stream",
     "text": [
      "Any temperature that lies outside of (98.123196428181657, 98.375265110279898) is considered abnormal\n",
      "Margin of error: 12.6034341049 %\n"
     ]
    }
   ],
   "source": [
    "# Let's consider 95% confidence interval\n",
    "alpha = 0.05\n",
    "# Calculating critical z-value of 97.5 since z table corrresponds to one-tailed test\n",
    "z_critical = st.norm.ppf(0.975)\n",
    "#1.96 = (mean_sample - u) / (std_sample)\n",
    "u_min = mean_sample - z_critical*std_sample_distribution\n",
    "u_max = mean_sample + z_critical*std_sample_distribution\n",
    "u_min,u_max\n",
    "print('Any temperature that lies outside of',(u_min,u_max),'is considered abnormal')\n",
    "print('Margin of error:',100*z_critical*std_sample_distribution,'%')\n"
   ]
  },
  {
   "cell_type": "markdown",
   "metadata": {},
   "source": [
    "4) Is there a significant difference between males and females in normal temperature?"
   ]
  },
  {
   "cell_type": "code",
   "execution_count": 206,
   "metadata": {
    "collapsed": false
   },
   "outputs": [
    {
     "name": "stdout",
     "output_type": "stream",
     "text": [
      "Difference in means: 0.289230769231\n",
      "Critical value: 0.248041184924\n",
      "There is a significant difference between males and females normal temperature\n"
     ]
    }
   ],
   "source": [
    "# H0: No significant difference -> mean_males = mean_females\n",
    "# H1: Significant different -> mean_males != mean_females\n",
    "# Assume H0\n",
    "alpha = 0.05\n",
    "temp_male = df[df.gender == 'M'].temperature\n",
    "temp_female = df[df.gender == 'F'].temperature\n",
    "mean_male = temp_male.mean()\n",
    "var_male = temp_male.var()\n",
    "mean_female = temp_female.mean()\n",
    "var_female = temp_female.var()\n",
    "size_male = temp_male.size\n",
    "size_female = temp_female.size\n",
    "\n",
    "# Assuming H0, finding prob of getting mean_sample_diff\n",
    "mean_sample_diff = mean_female - mean_male\n",
    "print ('Difference in means:', mean_sample_diff)\n",
    "\n",
    "# Lets consider a sampling distribution\n",
    "# Mean of differences = 0 (according to H0 assumption)\n",
    "mean_sampledist_diff = 0\n",
    "# Std of diff = Std of pop diff / \n",
    "std_sampledist_diff = np.sqrt((var_male / size_male) + (var_female / size_female))\n",
    "\n",
    "# Find critical z-value\n",
    "z_critical = st.norm.ppf(0.975)\n",
    "value_critical = z_critical*std_sampledist_diff\n",
    "print ('Critical value:',value_critical)\n",
    "\n",
    "if(mean_sample_diff > value_critical): \n",
    "    # Rejecting NULL hypothesis\n",
    "    print ('There is a significant difference between males and females normal temperature')\n",
    "else:\n",
    "    print ('There is no significant difference between males and females normal temperature')"
   ]
  }
 ],
 "metadata": {
  "kernelspec": {
   "display_name": "Python 2",
   "language": "python",
   "name": "python2"
  },
  "language_info": {
   "codemirror_mode": {
    "name": "ipython",
    "version": 2
   },
   "file_extension": ".py",
   "mimetype": "text/x-python",
   "name": "python",
   "nbconvert_exporter": "python",
   "pygments_lexer": "ipython2",
   "version": "2.7.11"
  }
 },
 "nbformat": 4,
 "nbformat_minor": 0
}
