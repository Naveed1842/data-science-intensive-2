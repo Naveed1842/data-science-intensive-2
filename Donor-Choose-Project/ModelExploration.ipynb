{
 "cells": [
  {
   "cell_type": "markdown",
   "metadata": {},
   "source": [
    "## Predicting if a project would be successfully funded"
   ]
  },
  {
   "cell_type": "code",
   "execution_count": 80,
   "metadata": {
    "collapsed": true
   },
   "outputs": [],
   "source": [
    "%matplotlib inline\n",
    "import pandas as pd\n",
    "import numpy as np\n",
    "import matplotlib.pyplot as plt\n",
    "from scipy import stats"
   ]
  },
  {
   "cell_type": "code",
   "execution_count": 81,
   "metadata": {
    "collapsed": true
   },
   "outputs": [],
   "source": [
    "projects = pd.DataFrame.from_csv('opendata_projects.csv', index_col=None)"
   ]
  },
  {
   "cell_type": "code",
   "execution_count": 161,
   "metadata": {
    "collapsed": false,
    "scrolled": true
   },
   "outputs": [
    {
     "data": {
      "text/html": [
       "<div>\n",
       "<table border=\"1\" class=\"dataframe\">\n",
       "  <thead>\n",
       "    <tr style=\"text-align: right;\">\n",
       "      <th></th>\n",
       "      <th>_projectid</th>\n",
       "      <th>_teacher_acctid</th>\n",
       "      <th>_schoolid</th>\n",
       "      <th>school_ncesid</th>\n",
       "      <th>school_latitude</th>\n",
       "      <th>school_longitude</th>\n",
       "      <th>school_city</th>\n",
       "      <th>school_state</th>\n",
       "      <th>school_zip</th>\n",
       "      <th>school_metro</th>\n",
       "      <th>...</th>\n",
       "      <th>eligible_double_your_impact_match</th>\n",
       "      <th>eligible_almost_home_match</th>\n",
       "      <th>funding_status</th>\n",
       "      <th>date_posted</th>\n",
       "      <th>date_completed</th>\n",
       "      <th>date_thank_you_packet_mailed</th>\n",
       "      <th>date_expiration</th>\n",
       "      <th>year</th>\n",
       "      <th>month</th>\n",
       "      <th>date_posted_1</th>\n",
       "    </tr>\n",
       "  </thead>\n",
       "  <tbody>\n",
       "    <tr>\n",
       "      <th>0</th>\n",
       "      <td>7342bd01a2a7725ce033a179d22e382d</td>\n",
       "      <td>5c43ef5eac0f5857c266baa1ccfa3d3f</td>\n",
       "      <td>9e72d6f2f1e9367b578b6479aa5852b7</td>\n",
       "      <td>3.600097e+11</td>\n",
       "      <td>40.688454</td>\n",
       "      <td>-73.910432</td>\n",
       "      <td>Brooklyn</td>\n",
       "      <td>NY</td>\n",
       "      <td>11207</td>\n",
       "      <td>urban</td>\n",
       "      <td>...</td>\n",
       "      <td>f</td>\n",
       "      <td>f</td>\n",
       "      <td>completed</td>\n",
       "      <td>2002-09-13</td>\n",
       "      <td>2002-09-23 00:00:00</td>\n",
       "      <td>2003-01-27 00:00:00</td>\n",
       "      <td>2003-12-31 00:00:00</td>\n",
       "      <td>2002</td>\n",
       "      <td>9</td>\n",
       "      <td>200209</td>\n",
       "    </tr>\n",
       "    <tr>\n",
       "      <th>1</th>\n",
       "      <td>b56b502d25666e29550d107bf7e17910</td>\n",
       "      <td>57426949b47700ccf62098e1e9b0220c</td>\n",
       "      <td>4a06a328dd87bd29892d73310052f45f</td>\n",
       "      <td>3.600077e+11</td>\n",
       "      <td>40.770233</td>\n",
       "      <td>-73.950760</td>\n",
       "      <td>New York</td>\n",
       "      <td>NY</td>\n",
       "      <td>10075</td>\n",
       "      <td>NaN</td>\n",
       "      <td>...</td>\n",
       "      <td>f</td>\n",
       "      <td>f</td>\n",
       "      <td>completed</td>\n",
       "      <td>2002-09-16</td>\n",
       "      <td>2002-09-19 00:00:00</td>\n",
       "      <td>2002-12-19 00:00:00</td>\n",
       "      <td>2003-12-31 00:00:00</td>\n",
       "      <td>2002</td>\n",
       "      <td>9</td>\n",
       "      <td>200209</td>\n",
       "    </tr>\n",
       "    <tr>\n",
       "      <th>2</th>\n",
       "      <td>3a88a47f97bd0c9b7c6a745bcd831ce3</td>\n",
       "      <td>7a20087fac86232883537cab45c0a6c9</td>\n",
       "      <td>66d08b506d2f3c30dec9e6fdb03cc279</td>\n",
       "      <td>3.600122e+11</td>\n",
       "      <td>40.729763</td>\n",
       "      <td>-73.816925</td>\n",
       "      <td>Flushing</td>\n",
       "      <td>NY</td>\n",
       "      <td>11367</td>\n",
       "      <td>urban</td>\n",
       "      <td>...</td>\n",
       "      <td>f</td>\n",
       "      <td>f</td>\n",
       "      <td>completed</td>\n",
       "      <td>2002-09-17</td>\n",
       "      <td>2003-03-17 00:00:00</td>\n",
       "      <td>2004-06-14 00:00:00</td>\n",
       "      <td>2003-12-31 00:00:00</td>\n",
       "      <td>2002</td>\n",
       "      <td>9</td>\n",
       "      <td>200209</td>\n",
       "    </tr>\n",
       "    <tr>\n",
       "      <th>3</th>\n",
       "      <td>0b8a4f8eb1822ab6dd5cd9ffb918ece3</td>\n",
       "      <td>e5d28482308e2007992ae8b358b31bce</td>\n",
       "      <td>9bc7d4d92193a453669b6e2a56128e87</td>\n",
       "      <td>3.600077e+11</td>\n",
       "      <td>40.701778</td>\n",
       "      <td>-74.011840</td>\n",
       "      <td>New York</td>\n",
       "      <td>NY</td>\n",
       "      <td>10004</td>\n",
       "      <td>urban</td>\n",
       "      <td>...</td>\n",
       "      <td>f</td>\n",
       "      <td>f</td>\n",
       "      <td>completed</td>\n",
       "      <td>2002-09-17</td>\n",
       "      <td>2002-09-17 00:00:00</td>\n",
       "      <td>2003-12-18 00:00:00</td>\n",
       "      <td>2003-12-31 00:00:00</td>\n",
       "      <td>2002</td>\n",
       "      <td>9</td>\n",
       "      <td>200209</td>\n",
       "    </tr>\n",
       "    <tr>\n",
       "      <th>4</th>\n",
       "      <td>45235cb116b3b35cd86d1c3a63961d7d</td>\n",
       "      <td>214d75bd0e6ce3e7085278ddd8f26daa</td>\n",
       "      <td>f7f12dee0009e6f9afa301bcca9d5070</td>\n",
       "      <td>NaN</td>\n",
       "      <td>40.815018</td>\n",
       "      <td>-73.856094</td>\n",
       "      <td>Bronx</td>\n",
       "      <td>NY</td>\n",
       "      <td>10473</td>\n",
       "      <td>urban</td>\n",
       "      <td>...</td>\n",
       "      <td>f</td>\n",
       "      <td>f</td>\n",
       "      <td>completed</td>\n",
       "      <td>2002-09-17</td>\n",
       "      <td>2002-09-17 00:00:00</td>\n",
       "      <td>2004-01-28 00:00:00</td>\n",
       "      <td>2003-12-31 00:00:00</td>\n",
       "      <td>2002</td>\n",
       "      <td>9</td>\n",
       "      <td>200209</td>\n",
       "    </tr>\n",
       "  </tbody>\n",
       "</table>\n",
       "<p>5 rows × 47 columns</p>\n",
       "</div>"
      ],
      "text/plain": [
       "                         _projectid                   _teacher_acctid  \\\n",
       "0  7342bd01a2a7725ce033a179d22e382d  5c43ef5eac0f5857c266baa1ccfa3d3f   \n",
       "1  b56b502d25666e29550d107bf7e17910  57426949b47700ccf62098e1e9b0220c   \n",
       "2  3a88a47f97bd0c9b7c6a745bcd831ce3  7a20087fac86232883537cab45c0a6c9   \n",
       "3  0b8a4f8eb1822ab6dd5cd9ffb918ece3  e5d28482308e2007992ae8b358b31bce   \n",
       "4  45235cb116b3b35cd86d1c3a63961d7d  214d75bd0e6ce3e7085278ddd8f26daa   \n",
       "\n",
       "                          _schoolid  school_ncesid  school_latitude  \\\n",
       "0  9e72d6f2f1e9367b578b6479aa5852b7   3.600097e+11        40.688454   \n",
       "1  4a06a328dd87bd29892d73310052f45f   3.600077e+11        40.770233   \n",
       "2  66d08b506d2f3c30dec9e6fdb03cc279   3.600122e+11        40.729763   \n",
       "3  9bc7d4d92193a453669b6e2a56128e87   3.600077e+11        40.701778   \n",
       "4  f7f12dee0009e6f9afa301bcca9d5070            NaN        40.815018   \n",
       "\n",
       "   school_longitude school_city school_state  school_zip school_metro  \\\n",
       "0        -73.910432    Brooklyn           NY       11207        urban   \n",
       "1        -73.950760    New York           NY       10075          NaN   \n",
       "2        -73.816925    Flushing           NY       11367        urban   \n",
       "3        -74.011840    New York           NY       10004        urban   \n",
       "4        -73.856094       Bronx           NY       10473        urban   \n",
       "\n",
       "       ...      eligible_double_your_impact_match eligible_almost_home_match  \\\n",
       "0      ...                                      f                          f   \n",
       "1      ...                                      f                          f   \n",
       "2      ...                                      f                          f   \n",
       "3      ...                                      f                          f   \n",
       "4      ...                                      f                          f   \n",
       "\n",
       "  funding_status date_posted       date_completed  \\\n",
       "0      completed  2002-09-13  2002-09-23 00:00:00   \n",
       "1      completed  2002-09-16  2002-09-19 00:00:00   \n",
       "2      completed  2002-09-17  2003-03-17 00:00:00   \n",
       "3      completed  2002-09-17  2002-09-17 00:00:00   \n",
       "4      completed  2002-09-17  2002-09-17 00:00:00   \n",
       "\n",
       "  date_thank_you_packet_mailed      date_expiration  year month date_posted_1  \n",
       "0          2003-01-27 00:00:00  2003-12-31 00:00:00  2002     9        200209  \n",
       "1          2002-12-19 00:00:00  2003-12-31 00:00:00  2002     9        200209  \n",
       "2          2004-06-14 00:00:00  2003-12-31 00:00:00  2002     9        200209  \n",
       "3          2003-12-18 00:00:00  2003-12-31 00:00:00  2002     9        200209  \n",
       "4          2004-01-28 00:00:00  2003-12-31 00:00:00  2002     9        200209  \n",
       "\n",
       "[5 rows x 47 columns]"
      ]
     },
     "execution_count": 161,
     "metadata": {},
     "output_type": "execute_result"
    }
   ],
   "source": [
    "projects.head()"
   ]
  },
  {
   "cell_type": "code",
   "execution_count": 153,
   "metadata": {
    "collapsed": false
   },
   "outputs": [
    {
     "data": {
      "text/plain": [
       "array(['completed', 'expired'], dtype=object)"
      ]
     },
     "execution_count": 153,
     "metadata": {},
     "output_type": "execute_result"
    }
   ],
   "source": [
    "projects.funding_status.unique()"
   ]
  },
  {
   "cell_type": "code",
   "execution_count": 156,
   "metadata": {
    "collapsed": true
   },
   "outputs": [],
   "source": [
    "## Some Data wrangling\n",
    "projects = projects[(projects.total_price_including_optional_support > 0) & (projects.funding_status == 'completed') | (projects.funding_status == 'expired')]\n",
    "projects['date_posted'] = pd.to_datetime(projects['date_posted'])\n",
    "projects['year'] = projects['date_posted'].dt.year\n",
    "projects['month'] = projects['date_posted'].dt.month\n",
    "projects['date_posted_1'] = projects['date_posted'].map(lambda x: 100*x.year + x.month)"
   ]
  },
  {
   "cell_type": "code",
   "execution_count": 119,
   "metadata": {
    "collapsed": false
   },
   "outputs": [],
   "source": [
    "# Label Encoding categories\n",
    "from sklearn import preprocessing\n",
    "le = preprocessing.LabelEncoder()\n",
    "proj = projects.apply(le.fit_transform)"
   ]
  },
  {
   "cell_type": "code",
   "execution_count": 120,
   "metadata": {
    "collapsed": false
   },
   "outputs": [
    {
     "data": {
      "text/html": [
       "<div>\n",
       "<table border=\"1\" class=\"dataframe\">\n",
       "  <thead>\n",
       "    <tr style=\"text-align: right;\">\n",
       "      <th></th>\n",
       "      <th>_projectid</th>\n",
       "      <th>_teacher_acctid</th>\n",
       "      <th>_schoolid</th>\n",
       "      <th>school_ncesid</th>\n",
       "      <th>school_latitude</th>\n",
       "      <th>school_longitude</th>\n",
       "      <th>school_city</th>\n",
       "      <th>school_state</th>\n",
       "      <th>school_zip</th>\n",
       "      <th>school_metro</th>\n",
       "      <th>...</th>\n",
       "      <th>num_donors</th>\n",
       "      <th>eligible_double_your_impact_match</th>\n",
       "      <th>eligible_almost_home_match</th>\n",
       "      <th>funding_status</th>\n",
       "      <th>date_posted</th>\n",
       "      <th>date_completed</th>\n",
       "      <th>date_thank_you_packet_mailed</th>\n",
       "      <th>date_expiration</th>\n",
       "      <th>year</th>\n",
       "      <th>month</th>\n",
       "    </tr>\n",
       "  </thead>\n",
       "  <tbody>\n",
       "    <tr>\n",
       "      <th>0</th>\n",
       "      <td>381385</td>\n",
       "      <td>112577</td>\n",
       "      <td>39520</td>\n",
       "      <td>35712</td>\n",
       "      <td>42480</td>\n",
       "      <td>57074</td>\n",
       "      <td>1003</td>\n",
       "      <td>35</td>\n",
       "      <td>1592</td>\n",
       "      <td>3</td>\n",
       "      <td>...</td>\n",
       "      <td>1</td>\n",
       "      <td>0</td>\n",
       "      <td>0</td>\n",
       "      <td>0</td>\n",
       "      <td>0</td>\n",
       "      <td>4</td>\n",
       "      <td>30</td>\n",
       "      <td>162</td>\n",
       "      <td>0</td>\n",
       "      <td>8</td>\n",
       "    </tr>\n",
       "    <tr>\n",
       "      <th>1</th>\n",
       "      <td>599585</td>\n",
       "      <td>106407</td>\n",
       "      <td>18607</td>\n",
       "      <td>34897</td>\n",
       "      <td>43566</td>\n",
       "      <td>56624</td>\n",
       "      <td>6057</td>\n",
       "      <td>35</td>\n",
       "      <td>1451</td>\n",
       "      <td>0</td>\n",
       "      <td>...</td>\n",
       "      <td>1</td>\n",
       "      <td>0</td>\n",
       "      <td>0</td>\n",
       "      <td>0</td>\n",
       "      <td>1</td>\n",
       "      <td>2</td>\n",
       "      <td>21</td>\n",
       "      <td>162</td>\n",
       "      <td>0</td>\n",
       "      <td>8</td>\n",
       "    </tr>\n",
       "    <tr>\n",
       "      <th>2</th>\n",
       "      <td>193983</td>\n",
       "      <td>148824</td>\n",
       "      <td>25730</td>\n",
       "      <td>36136</td>\n",
       "      <td>43047</td>\n",
       "      <td>57672</td>\n",
       "      <td>2904</td>\n",
       "      <td>35</td>\n",
       "      <td>1637</td>\n",
       "      <td>3</td>\n",
       "      <td>...</td>\n",
       "      <td>1</td>\n",
       "      <td>0</td>\n",
       "      <td>0</td>\n",
       "      <td>0</td>\n",
       "      <td>2</td>\n",
       "      <td>73</td>\n",
       "      <td>207</td>\n",
       "      <td>162</td>\n",
       "      <td>0</td>\n",
       "      <td>8</td>\n",
       "    </tr>\n",
       "    <tr>\n",
       "      <th>3</th>\n",
       "      <td>38288</td>\n",
       "      <td>280334</td>\n",
       "      <td>38878</td>\n",
       "      <td>34932</td>\n",
       "      <td>42683</td>\n",
       "      <td>56175</td>\n",
       "      <td>6057</td>\n",
       "      <td>35</td>\n",
       "      <td>1418</td>\n",
       "      <td>3</td>\n",
       "      <td>...</td>\n",
       "      <td>1</td>\n",
       "      <td>0</td>\n",
       "      <td>0</td>\n",
       "      <td>0</td>\n",
       "      <td>2</td>\n",
       "      <td>1</td>\n",
       "      <td>111</td>\n",
       "      <td>162</td>\n",
       "      <td>0</td>\n",
       "      <td>8</td>\n",
       "    </tr>\n",
       "    <tr>\n",
       "      <th>4</th>\n",
       "      <td>228881</td>\n",
       "      <td>40612</td>\n",
       "      <td>61958</td>\n",
       "      <td>59697</td>\n",
       "      <td>43969</td>\n",
       "      <td>57505</td>\n",
       "      <td>990</td>\n",
       "      <td>35</td>\n",
       "      <td>1491</td>\n",
       "      <td>3</td>\n",
       "      <td>...</td>\n",
       "      <td>1</td>\n",
       "      <td>0</td>\n",
       "      <td>0</td>\n",
       "      <td>0</td>\n",
       "      <td>2</td>\n",
       "      <td>1</td>\n",
       "      <td>127</td>\n",
       "      <td>162</td>\n",
       "      <td>0</td>\n",
       "      <td>8</td>\n",
       "    </tr>\n",
       "  </tbody>\n",
       "</table>\n",
       "<p>5 rows × 46 columns</p>\n",
       "</div>"
      ],
      "text/plain": [
       "   _projectid  _teacher_acctid  _schoolid  school_ncesid  school_latitude  \\\n",
       "0      381385           112577      39520          35712            42480   \n",
       "1      599585           106407      18607          34897            43566   \n",
       "2      193983           148824      25730          36136            43047   \n",
       "3       38288           280334      38878          34932            42683   \n",
       "4      228881            40612      61958          59697            43969   \n",
       "\n",
       "   school_longitude  school_city  school_state  school_zip  school_metro  \\\n",
       "0             57074         1003            35        1592             3   \n",
       "1             56624         6057            35        1451             0   \n",
       "2             57672         2904            35        1637             3   \n",
       "3             56175         6057            35        1418             3   \n",
       "4             57505          990            35        1491             3   \n",
       "\n",
       "   ...    num_donors  eligible_double_your_impact_match  \\\n",
       "0  ...             1                                  0   \n",
       "1  ...             1                                  0   \n",
       "2  ...             1                                  0   \n",
       "3  ...             1                                  0   \n",
       "4  ...             1                                  0   \n",
       "\n",
       "   eligible_almost_home_match  funding_status  date_posted  date_completed  \\\n",
       "0                           0               0            0               4   \n",
       "1                           0               0            1               2   \n",
       "2                           0               0            2              73   \n",
       "3                           0               0            2               1   \n",
       "4                           0               0            2               1   \n",
       "\n",
       "   date_thank_you_packet_mailed  date_expiration  year  month  \n",
       "0                            30              162     0      8  \n",
       "1                            21              162     0      8  \n",
       "2                           207              162     0      8  \n",
       "3                           111              162     0      8  \n",
       "4                           127              162     0      8  \n",
       "\n",
       "[5 rows x 46 columns]"
      ]
     },
     "execution_count": 120,
     "metadata": {},
     "output_type": "execute_result"
    }
   ],
   "source": [
    "proj.head()"
   ]
  },
  {
   "cell_type": "code",
   "execution_count": 121,
   "metadata": {
    "collapsed": false
   },
   "outputs": [
    {
     "data": {
      "text/plain": [
       "846082"
      ]
     },
     "execution_count": 121,
     "metadata": {},
     "output_type": "execute_result"
    }
   ],
   "source": [
    "len(proj)"
   ]
  },
  {
   "cell_type": "code",
   "execution_count": 122,
   "metadata": {
    "collapsed": false,
    "scrolled": true
   },
   "outputs": [],
   "source": [
    "# Categorical features\n",
    "# Using OnHotEncode for categorical features\n",
    "enc = preprocessing.OneHotEncoder()\n",
    "a = enc.fit_transform(proj[['school_metro','primary_focus_subject','school_state','poverty_level','grade_level','resource_type','year','month']]).toarray()"
   ]
  },
  {
   "cell_type": "code",
   "execution_count": 123,
   "metadata": {
    "collapsed": false
   },
   "outputs": [],
   "source": [
    "# Boolean features\n",
    "b = proj.as_matrix([['school_charter','school_magnet','school_year_round','school_nlns','school_kipp','school_charter_ready_promise',\n",
    "                     'eligible_double_your_impact_match','eligible_almost_home_match','teacher_teach_for_america',\n",
    "                    'teacher_ny_teaching_fellow']])"
   ]
  },
  {
   "cell_type": "code",
   "execution_count": 124,
   "metadata": {
    "collapsed": true
   },
   "outputs": [],
   "source": [
    "# Numerical feature\n",
    "z = projects.as_matrix([['total_price_including_optional_support']])"
   ]
  },
  {
   "cell_type": "code",
   "execution_count": 125,
   "metadata": {
    "collapsed": false
   },
   "outputs": [],
   "source": [
    "## Concatenate all features to use as input to model\n",
    "c = np.concatenate((a,b,z),axis=1)"
   ]
  },
  {
   "cell_type": "code",
   "execution_count": 126,
   "metadata": {
    "collapsed": false,
    "scrolled": true
   },
   "outputs": [
    {
     "data": {
      "text/plain": [
       "array([[  0.00000000e+00,   0.00000000e+00,   0.00000000e+00, ...,\n",
       "          0.00000000e+00,   0.00000000e+00,   2.79270000e+02],\n",
       "       [  1.00000000e+00,   0.00000000e+00,   0.00000000e+00, ...,\n",
       "          0.00000000e+00,   0.00000000e+00,   1.52440000e+02],\n",
       "       [  0.00000000e+00,   0.00000000e+00,   0.00000000e+00, ...,\n",
       "          0.00000000e+00,   0.00000000e+00,   2.23780000e+03],\n",
       "       ..., \n",
       "       [  0.00000000e+00,   0.00000000e+00,   0.00000000e+00, ...,\n",
       "          0.00000000e+00,   0.00000000e+00,   2.73880000e+02],\n",
       "       [  0.00000000e+00,   0.00000000e+00,   0.00000000e+00, ...,\n",
       "          0.00000000e+00,   0.00000000e+00,   3.76180000e+02],\n",
       "       [  0.00000000e+00,   0.00000000e+00,   0.00000000e+00, ...,\n",
       "          0.00000000e+00,   0.00000000e+00,   2.67940000e+02]])"
      ]
     },
     "execution_count": 126,
     "metadata": {},
     "output_type": "execute_result"
    }
   ],
   "source": [
    "c"
   ]
  },
  {
   "cell_type": "code",
   "execution_count": 127,
   "metadata": {
    "collapsed": false
   },
   "outputs": [
    {
     "data": {
      "text/html": [
       "<div>\n",
       "<table border=\"1\" class=\"dataframe\">\n",
       "  <thead>\n",
       "    <tr style=\"text-align: right;\">\n",
       "      <th></th>\n",
       "      <th>0</th>\n",
       "      <th>1</th>\n",
       "      <th>2</th>\n",
       "      <th>3</th>\n",
       "      <th>4</th>\n",
       "      <th>5</th>\n",
       "      <th>6</th>\n",
       "      <th>7</th>\n",
       "      <th>8</th>\n",
       "      <th>9</th>\n",
       "      <th>...</th>\n",
       "      <th>128</th>\n",
       "      <th>129</th>\n",
       "      <th>130</th>\n",
       "      <th>131</th>\n",
       "      <th>132</th>\n",
       "      <th>133</th>\n",
       "      <th>134</th>\n",
       "      <th>135</th>\n",
       "      <th>136</th>\n",
       "      <th>137</th>\n",
       "    </tr>\n",
       "  </thead>\n",
       "  <tbody>\n",
       "    <tr>\n",
       "      <th>0</th>\n",
       "      <td>0</td>\n",
       "      <td>0</td>\n",
       "      <td>0</td>\n",
       "      <td>1</td>\n",
       "      <td>0</td>\n",
       "      <td>0</td>\n",
       "      <td>0</td>\n",
       "      <td>0</td>\n",
       "      <td>0</td>\n",
       "      <td>0</td>\n",
       "      <td>...</td>\n",
       "      <td>1</td>\n",
       "      <td>0</td>\n",
       "      <td>0</td>\n",
       "      <td>0</td>\n",
       "      <td>0</td>\n",
       "      <td>0</td>\n",
       "      <td>0</td>\n",
       "      <td>0</td>\n",
       "      <td>0</td>\n",
       "      <td>279.27</td>\n",
       "    </tr>\n",
       "    <tr>\n",
       "      <th>1</th>\n",
       "      <td>1</td>\n",
       "      <td>0</td>\n",
       "      <td>0</td>\n",
       "      <td>0</td>\n",
       "      <td>0</td>\n",
       "      <td>0</td>\n",
       "      <td>0</td>\n",
       "      <td>0</td>\n",
       "      <td>0</td>\n",
       "      <td>0</td>\n",
       "      <td>...</td>\n",
       "      <td>1</td>\n",
       "      <td>0</td>\n",
       "      <td>0</td>\n",
       "      <td>0</td>\n",
       "      <td>0</td>\n",
       "      <td>0</td>\n",
       "      <td>0</td>\n",
       "      <td>0</td>\n",
       "      <td>0</td>\n",
       "      <td>152.44</td>\n",
       "    </tr>\n",
       "    <tr>\n",
       "      <th>2</th>\n",
       "      <td>0</td>\n",
       "      <td>0</td>\n",
       "      <td>0</td>\n",
       "      <td>1</td>\n",
       "      <td>0</td>\n",
       "      <td>0</td>\n",
       "      <td>0</td>\n",
       "      <td>0</td>\n",
       "      <td>0</td>\n",
       "      <td>0</td>\n",
       "      <td>...</td>\n",
       "      <td>0</td>\n",
       "      <td>0</td>\n",
       "      <td>0</td>\n",
       "      <td>0</td>\n",
       "      <td>0</td>\n",
       "      <td>0</td>\n",
       "      <td>0</td>\n",
       "      <td>0</td>\n",
       "      <td>0</td>\n",
       "      <td>2237.80</td>\n",
       "    </tr>\n",
       "    <tr>\n",
       "      <th>3</th>\n",
       "      <td>0</td>\n",
       "      <td>0</td>\n",
       "      <td>0</td>\n",
       "      <td>1</td>\n",
       "      <td>0</td>\n",
       "      <td>0</td>\n",
       "      <td>0</td>\n",
       "      <td>0</td>\n",
       "      <td>0</td>\n",
       "      <td>0</td>\n",
       "      <td>...</td>\n",
       "      <td>0</td>\n",
       "      <td>0</td>\n",
       "      <td>0</td>\n",
       "      <td>0</td>\n",
       "      <td>0</td>\n",
       "      <td>0</td>\n",
       "      <td>0</td>\n",
       "      <td>0</td>\n",
       "      <td>0</td>\n",
       "      <td>1376.83</td>\n",
       "    </tr>\n",
       "    <tr>\n",
       "      <th>4</th>\n",
       "      <td>0</td>\n",
       "      <td>0</td>\n",
       "      <td>0</td>\n",
       "      <td>1</td>\n",
       "      <td>0</td>\n",
       "      <td>0</td>\n",
       "      <td>0</td>\n",
       "      <td>0</td>\n",
       "      <td>0</td>\n",
       "      <td>0</td>\n",
       "      <td>...</td>\n",
       "      <td>0</td>\n",
       "      <td>0</td>\n",
       "      <td>0</td>\n",
       "      <td>0</td>\n",
       "      <td>0</td>\n",
       "      <td>0</td>\n",
       "      <td>0</td>\n",
       "      <td>1</td>\n",
       "      <td>0</td>\n",
       "      <td>101.22</td>\n",
       "    </tr>\n",
       "  </tbody>\n",
       "</table>\n",
       "<p>5 rows × 138 columns</p>\n",
       "</div>"
      ],
      "text/plain": [
       "   0    1    2    3    4    5    6    7    8    9     ...     128  129  130  \\\n",
       "0    0    0    0    1    0    0    0    0    0    0   ...       1    0    0   \n",
       "1    1    0    0    0    0    0    0    0    0    0   ...       1    0    0   \n",
       "2    0    0    0    1    0    0    0    0    0    0   ...       0    0    0   \n",
       "3    0    0    0    1    0    0    0    0    0    0   ...       0    0    0   \n",
       "4    0    0    0    1    0    0    0    0    0    0   ...       0    0    0   \n",
       "\n",
       "   131  132  133  134  135  136      137  \n",
       "0    0    0    0    0    0    0   279.27  \n",
       "1    0    0    0    0    0    0   152.44  \n",
       "2    0    0    0    0    0    0  2237.80  \n",
       "3    0    0    0    0    0    0  1376.83  \n",
       "4    0    0    0    0    1    0   101.22  \n",
       "\n",
       "[5 rows x 138 columns]"
      ]
     },
     "execution_count": 127,
     "metadata": {},
     "output_type": "execute_result"
    }
   ],
   "source": [
    "pd.DataFrame(c).head()"
   ]
  },
  {
   "cell_type": "code",
   "execution_count": 128,
   "metadata": {
    "collapsed": false
   },
   "outputs": [],
   "source": [
    "#proj_input = proj[['school_charter','school_magnet','school_year_round','school_nlns','school_kipp','school_charter_ready_promise']]\n",
    "proj_input = c\n",
    "proj_output = projects['funding_status']\n",
    "#proj_input = proj_input.replace('f',0).replace('t',1)\n"
   ]
  },
  {
   "cell_type": "code",
   "execution_count": 86,
   "metadata": {
    "collapsed": false
   },
   "outputs": [],
   "source": [
    "from sklearn import tree\n",
    "clf1 = tree.DecisionTreeClassifier()\n",
    "clf1 = clf1.fit(proj_input,proj_output)"
   ]
  },
  {
   "cell_type": "code",
   "execution_count": 87,
   "metadata": {
    "collapsed": false
   },
   "outputs": [],
   "source": [
    "from sklearn.ensemble import RandomForestClassifier\n",
    "clf2 = RandomForestClassifier()\n",
    "clf2 = clf2.fit(proj_input,proj_output)"
   ]
  },
  {
   "cell_type": "code",
   "execution_count": 90,
   "metadata": {
    "collapsed": false
   },
   "outputs": [],
   "source": [
    "projects['predicted_by_clf1'] = clf1.predict(proj_input)\n",
    "projects['predicted_by_clf2'] = clf2.predict(proj_input)"
   ]
  },
  {
   "cell_type": "code",
   "execution_count": 107,
   "metadata": {
    "collapsed": false,
    "scrolled": true
   },
   "outputs": [
    {
     "data": {
      "text/html": [
       "<div>\n",
       "<table border=\"1\" class=\"dataframe\">\n",
       "  <thead>\n",
       "    <tr style=\"text-align: right;\">\n",
       "      <th></th>\n",
       "      <th>funding_status</th>\n",
       "      <th>predicted_by_clf1</th>\n",
       "      <th>predicted_by_clf2</th>\n",
       "      <th>total_price_including_optional_support</th>\n",
       "    </tr>\n",
       "  </thead>\n",
       "  <tbody>\n",
       "    <tr>\n",
       "      <th>159</th>\n",
       "      <td>expired</td>\n",
       "      <td>expired</td>\n",
       "      <td>expired</td>\n",
       "      <td>148.17</td>\n",
       "    </tr>\n",
       "    <tr>\n",
       "      <th>160</th>\n",
       "      <td>expired</td>\n",
       "      <td>expired</td>\n",
       "      <td>expired</td>\n",
       "      <td>1036.59</td>\n",
       "    </tr>\n",
       "    <tr>\n",
       "      <th>211</th>\n",
       "      <td>expired</td>\n",
       "      <td>expired</td>\n",
       "      <td>expired</td>\n",
       "      <td>617.01</td>\n",
       "    </tr>\n",
       "    <tr>\n",
       "      <th>506</th>\n",
       "      <td>expired</td>\n",
       "      <td>expired</td>\n",
       "      <td>expired</td>\n",
       "      <td>585.79</td>\n",
       "    </tr>\n",
       "    <tr>\n",
       "      <th>507</th>\n",
       "      <td>expired</td>\n",
       "      <td>expired</td>\n",
       "      <td>expired</td>\n",
       "      <td>346.22</td>\n",
       "    </tr>\n",
       "  </tbody>\n",
       "</table>\n",
       "</div>"
      ],
      "text/plain": [
       "    funding_status predicted_by_clf1 predicted_by_clf2  \\\n",
       "159        expired           expired           expired   \n",
       "160        expired           expired           expired   \n",
       "211        expired           expired           expired   \n",
       "506        expired           expired           expired   \n",
       "507        expired           expired           expired   \n",
       "\n",
       "     total_price_including_optional_support  \n",
       "159                                  148.17  \n",
       "160                                 1036.59  \n",
       "211                                  617.01  \n",
       "506                                  585.79  \n",
       "507                                  346.22  "
      ]
     },
     "execution_count": 107,
     "metadata": {},
     "output_type": "execute_result"
    }
   ],
   "source": [
    "projects[projects.funding_status == 'expired'][['funding_status','predicted_by_clf1','predicted_by_clf2','total_price_including_optional_support']].head()"
   ]
  },
  {
   "cell_type": "code",
   "execution_count": 104,
   "metadata": {
    "collapsed": false
   },
   "outputs": [
    {
     "data": {
      "text/plain": [
       "253184"
      ]
     },
     "execution_count": 104,
     "metadata": {},
     "output_type": "execute_result"
    }
   ],
   "source": [
    "len(projects[projects.funding_status == 'expired'])"
   ]
  },
  {
   "cell_type": "code",
   "execution_count": 338,
   "metadata": {
    "collapsed": false
   },
   "outputs": [],
   "source": [
    "a = pd.DataFrame(clf1.predict(proj_input))"
   ]
  },
  {
   "cell_type": "code",
   "execution_count": 106,
   "metadata": {
    "collapsed": false,
    "scrolled": true
   },
   "outputs": [
    {
     "data": {
      "text/plain": [
       "array([0, 0, 0, ..., 2, 2, 2], dtype=int64)"
      ]
     },
     "execution_count": 106,
     "metadata": {},
     "output_type": "execute_result"
    }
   ],
   "source": [
    "clf1.predict(proj_input)"
   ]
  },
  {
   "cell_type": "code",
   "execution_count": 427,
   "metadata": {
    "collapsed": false
   },
   "outputs": [],
   "source": [
    "tree.export_graphviz(clf1,out_file='clf1_4.dot')     "
   ]
  },
  {
   "cell_type": "code",
   "execution_count": null,
   "metadata": {
    "collapsed": true
   },
   "outputs": [],
   "source": []
  },
  {
   "cell_type": "markdown",
   "metadata": {},
   "source": [
    "## Evaluating models with different parameters"
   ]
  },
  {
   "cell_type": "markdown",
   "metadata": {},
   "source": [
    "**Functions from CS109**"
   ]
  },
  {
   "cell_type": "code",
   "execution_count": 97,
   "metadata": {
    "collapsed": true
   },
   "outputs": [],
   "source": [
    "# special IPython command to prepare the notebook for matplotlib\n",
    "%matplotlib inline \n",
    "\n",
    "import numpy as np\n",
    "import pandas as pd\n",
    "import scipy.stats as stats\n",
    "import matplotlib.pyplot as plt\n",
    "import sklearn\n",
    "import statsmodels.api as sm\n",
    "\n",
    "import seaborn as sns\n",
    "sns.set_style(\"whitegrid\")\n",
    "sns.set_context(\"poster\")\n",
    "\n",
    "# special matplotlib argument for improved plots\n",
    "from matplotlib import rcParams"
   ]
  },
  {
   "cell_type": "code",
   "execution_count": 98,
   "metadata": {
    "collapsed": true
   },
   "outputs": [],
   "source": [
    "# - - - - - - - - - - - - - - - - - - - - - - - - - - - - - - - - - - - - - - - - - - #\n",
    "# Generic classification and optimization functions from last lab\n",
    "# - - - - - - - - - - - - - - - - - - - - - - - - - - - - - - - - - - - - - - - - - - #\n",
    "\n",
    "from sklearn.grid_search import GridSearchCV\n",
    "from sklearn.cross_validation import train_test_split\n",
    "from sklearn.metrics import confusion_matrix\n",
    "\n",
    "# - - - - - - - - - - - - - - - - - - - - - - - - - - - - - - - - - - - - - - - - - - #\n",
    "# clf - original classifier\n",
    "# parameters - grid to search over\n",
    "# X - usually your training X matrix\n",
    "# y - usually your training y \n",
    "# - - - - - - - - - - - - - - - - - - - - - - - - - - - - - - - - - - - - - - - - - - #\n",
    "def cv_optimize(clf, parameters, X, y, n_jobs=1, n_folds=5, score_func=None):\n",
    "    if score_func:\n",
    "        gs = GridSearchCV(clf, param_grid=parameters, cv=n_folds, n_jobs=n_jobs, scoring=score_func)\n",
    "    else:\n",
    "        gs = GridSearchCV(clf, param_grid=parameters, n_jobs=n_jobs, cv=n_folds)\n",
    "    gs.fit(X, y)\n",
    "    print \"BEST\", gs.best_params_, gs.best_score_, gs.grid_scores_\n",
    "    best = gs.best_estimator_\n",
    "    return best\n",
    "\n",
    "# - - - - - - - - - - - - - - - - - - - - - - - - - - - - - - - - - - - - - - - - - - #\n",
    "# Important parameters\n",
    "# indf - Input dataframe\n",
    "# featurenames - vector of names of predictors\n",
    "# targetname - name of column you want to predict (e.g. 0 or 1, 'M' or 'F', \n",
    "#              'yes' or 'no')\n",
    "# target1val - particular value you want to have as a 1 in the target\n",
    "# mask - boolean vector indicating test set (~mask is training set)\n",
    "# reuse_split - dictionary that contains traning and testing dataframes \n",
    "#              (we'll use this to test different classifiers on the same \n",
    "#              test-train splits)\n",
    "# score_func - we've used the accuracy as a way of scoring algorithms but \n",
    "#              this can be more general later on\n",
    "# n_folds - Number of folds for cross validation ()\n",
    "# n_jobs - used for parallelization\n",
    "# - - - - - - - - - - - - - - - - - - - - - - - - - - - - - - - - - - - - - - - - - - #\n",
    "\n",
    "def do_classify(clf, parameters, indf, featurenames, targetname, target1val, mask=None, reuse_split=None, score_func=None, n_folds=5, n_jobs=1):\n",
    "    #subdf=indf[featurenames]\n",
    "    X=featurenames#subdf.values\n",
    "    y=(indf[targetname].values==target1val)*1\n",
    "    if mask !=None:\n",
    "        print \"using mask\"\n",
    "        Xtrain, Xtest, ytrain, ytest = X[mask], X[~mask], y[mask], y[~mask]\n",
    "    if reuse_split !=None:\n",
    "        print \"using reuse split\"\n",
    "        Xtrain, Xtest, ytrain, ytest = reuse_split['Xtrain'], reuse_split['Xtest'], reuse_split['ytrain'], reuse_split['ytest']\n",
    "    if parameters:\n",
    "        clf = cv_optimize(clf, parameters, Xtrain, ytrain, n_jobs=n_jobs, n_folds=n_folds, score_func=score_func)\n",
    "    clf=clf.fit(Xtrain, ytrain)\n",
    "    training_accuracy = clf.score(Xtrain, ytrain)\n",
    "    test_accuracy = clf.score(Xtest, ytest)\n",
    "    print \"############# based on standard predict ################\"\n",
    "    print \"Accuracy on training data: %0.2f\" % (training_accuracy)\n",
    "    print \"Accuracy on test data:     %0.2f\" % (test_accuracy)\n",
    "    print confusion_matrix(ytest, clf.predict(Xtest))\n",
    "    print \"########################################################\"\n",
    "    return clf, Xtrain, ytrain, Xtest, ytest\n",
    "\n",
    "# - - - - - - - - - - - - - - - - - - - - - - - - - - - - - - - - - - - - - - - - - - #\n",
    "# Plot tree containing only two covariates\n",
    "# - - - - - - - - - - - - - - - - - - - - - - - - - - - - - - - - - - - - - - - - - - #\n",
    "\n",
    "from matplotlib.colors import ListedColormap\n",
    "# cmap_light = ListedColormap(['#FFAAAA', '#AAFFAA', '#AAAAFF'])\n",
    "cmap_light = ListedColormap(['#FFAAAA', '#AAAAFF'])\n",
    "cmap_bold = ListedColormap(['#FF0000', '#00FF00', '#0000FF'])\n",
    "cm = plt.cm.RdBu\n",
    "cm_bright = ListedColormap(['#FF0000', '#0000FF'])\n",
    "\n",
    "def plot_2tree(ax, Xtr, Xte, ytr, yte, clf, plot_train = True, plot_test = True, lab = ['Feature 1', 'Feature 2'], mesh=True, colorscale=cmap_light, cdiscrete=cmap_bold, alpha=0.3, psize=10, zfunc=False):\n",
    "    # Create a meshgrid as our test data\n",
    "    plt.figure(figsize=(15,10))\n",
    "    plot_step= 0.05\n",
    "    xmin, xmax= Xtr[:,0].min(), Xtr[:,0].max()\n",
    "    ymin, ymax= Xtr[:,1].min(), Xtr[:,1].max()\n",
    "    xx, yy = np.meshgrid(np.arange(xmin, xmax, plot_step), np.arange(ymin, ymax, plot_step) )\n",
    "\n",
    "    # Re-cast every coordinate in the meshgrid as a 2D point\n",
    "    Xplot= np.c_[xx.ravel(), yy.ravel()]\n",
    "\n",
    "\n",
    "    # Predict the class\n",
    "    Z = clfTree1.predict( Xplot )\n",
    "\n",
    "    # Re-shape the results\n",
    "    Z= Z.reshape( xx.shape )\n",
    "    cs = plt.contourf(xx, yy, Z, cmap= cmap_light, alpha=0.3)\n",
    "  \n",
    "    # Overlay training samples\n",
    "    if (plot_train == True):\n",
    "        plt.scatter(Xtr[:, 0], Xtr[:, 1], c=ytr-1, cmap=cmap_bold, alpha=alpha,edgecolor=\"k\") \n",
    "    # and testing points\n",
    "    if (plot_test == True):\n",
    "        plt.scatter(Xte[:, 0], Xte[:, 1], c=yte-1, cmap=cmap_bold, alpha=alpha, marker=\"s\")\n",
    "\n",
    "    plt.xlabel(lab[0])\n",
    "    plt.ylabel(lab[1])\n",
    "    plt.title(\"Boundary for decision tree classifier\",fontsize=7.5)"
   ]
  },
  {
   "cell_type": "code",
   "execution_count": 99,
   "metadata": {
    "collapsed": false,
    "scrolled": true
   },
   "outputs": [
    {
     "data": {
      "text/plain": [
       "846082"
      ]
     },
     "execution_count": 99,
     "metadata": {},
     "output_type": "execute_result"
    }
   ],
   "source": [
    "len(proj)"
   ]
  },
  {
   "cell_type": "code",
   "execution_count": 100,
   "metadata": {
    "collapsed": true
   },
   "outputs": [],
   "source": [
    "# Create test/train mask\n",
    "itrain, itest = train_test_split(xrange(projects.shape[0]), train_size=0.60)\n",
    "mask=np.ones(projects.shape[0], dtype='int')\n",
    "mask[itrain]=1\n",
    "mask[itest]=0\n",
    "mask = (mask==1)"
   ]
  },
  {
   "cell_type": "code",
   "execution_count": 101,
   "metadata": {
    "collapsed": false
   },
   "outputs": [
    {
     "name": "stdout",
     "output_type": "stream",
     "text": [
      "% Project Success in training data: 0.30021727611\n",
      "% Project Success in test data: 0.298440163932\n"
     ]
    }
   ],
   "source": [
    "print \"% Project Success in training data:\", np.mean(proj.funding_status[mask])\n",
    "print \"% Project Success in test data:\", np.mean(proj.funding_status[~mask])"
   ]
  },
  {
   "cell_type": "code",
   "execution_count": 19,
   "metadata": {
    "collapsed": false
   },
   "outputs": [
    {
     "name": "stdout",
     "output_type": "stream",
     "text": [
      "using mask\n",
      "BEST {'max_depth': None, 'min_samples_leaf': 5} 0.869321446726 [mean: 0.70917, std: 0.01492, params: {'max_depth': None, 'min_samples_leaf': 1}, mean: 0.68437, std: 0.01894, params: {'max_depth': None, 'min_samples_leaf': 2}, mean: 0.75065, std: 0.07728, params: {'max_depth': None, 'min_samples_leaf': 3}, mean: 0.80692, std: 0.08752, params: {'max_depth': None, 'min_samples_leaf': 4}, mean: 0.86932, std: 0.00475, params: {'max_depth': None, 'min_samples_leaf': 5}, mean: 0.80186, std: 0.07042, params: {'max_depth': None, 'min_samples_leaf': 6}, mean: 0.82608, std: 0.05459, params: {'max_depth': None, 'min_samples_leaf': 7}, mean: 0.80555, std: 0.04250, params: {'max_depth': None, 'min_samples_leaf': 8}, mean: 0.81879, std: 0.04661, params: {'max_depth': None, 'min_samples_leaf': 9}, mean: 0.79589, std: 0.05133, params: {'max_depth': None, 'min_samples_leaf': 10}]\n",
      "############# based on standard predict ################\n",
      "Accuracy on training data: 0.82\n",
      "Accuracy on test data:     0.64\n",
      "[[ 49401  64978]\n",
      " [ 62778 174262]]\n",
      "########################################################\n"
     ]
    },
    {
     "name": "stderr",
     "output_type": "stream",
     "text": [
      "C:\\Users\\mjanyavula\\AppData\\Local\\Continuum\\Anaconda2\\lib\\site-packages\\ipykernel\\__main__.py:46: FutureWarning: comparison to `None` will result in an elementwise object comparison in the future.\n"
     ]
    }
   ],
   "source": [
    "from sklearn import tree\n",
    "clf = tree.DecisionTreeClassifier()\n",
    "\n",
    "parameters = {\"max_depth\": [None], 'min_samples_leaf': [1, 2, 3, 4, 5, 6, 7, 8, 9, 10]}\n",
    "#parameters = {}\n",
    "clf,Xtrain_dt,ytrain_dt,Xtest_dt,ytest_dt = do_classify(clf,parameters,projects,c,'funding_status','completed',mask=mask,\n",
    "                                           n_jobs = 4,score_func = 'f1')"
   ]
  },
  {
   "cell_type": "code",
   "execution_count": 20,
   "metadata": {
    "collapsed": false
   },
   "outputs": [
    {
     "data": {
      "text/plain": [
       "82L"
      ]
     },
     "execution_count": 20,
     "metadata": {},
     "output_type": "execute_result"
    }
   ],
   "source": [
    "# Depth of a decision tree\n",
    "clf.tree_.max_depth"
   ]
  },
  {
   "cell_type": "code",
   "execution_count": 57,
   "metadata": {
    "collapsed": false
   },
   "outputs": [
    {
     "data": {
      "text/plain": [
       "array([1, 1, 1, ..., 1, 1, 0])"
      ]
     },
     "execution_count": 57,
     "metadata": {},
     "output_type": "execute_result"
    }
   ],
   "source": [
    "clf.predict(Xtest_dt)"
   ]
  },
  {
   "cell_type": "code",
   "execution_count": 21,
   "metadata": {
    "collapsed": false
   },
   "outputs": [
    {
     "name": "stderr",
     "output_type": "stream",
     "text": [
      "C:\\Users\\mjanyavula\\AppData\\Local\\Continuum\\Anaconda2\\lib\\site-packages\\matplotlib\\axes\\_axes.py:519: UserWarning: No labelled objects found. Use label='...' kwarg on individual plots.\n",
      "  warnings.warn(\"No labelled objects found. \"\n"
     ]
    },
    {
     "data": {
      "image/png": "[encoded data removed]",
      "text/plain": [
       "<matplotlib.figure.Figure at 0x1876a5f8>"
      ]
     },
     "metadata": {},
     "output_type": "display_data"
    },
    {
     "name": "stdout",
     "output_type": "stream",
     "text": [
      "Area under ROC:  0.622542576791\n",
      "Precision, Recall, Fscore:\n"
     ]
    },
    {
     "data": {
      "text/plain": [
       "(0.72839826116034112, 0.73515862301721224, 0.73176282858822539, None)"
      ]
     },
     "execution_count": 21,
     "metadata": {},
     "output_type": "execute_result"
    }
   ],
   "source": [
    "# Plot of a ROC curve for a specific class\n",
    "y_score_dt = pd.DataFrame(clf.predict_proba(Xtest_dt))[1]\n",
    "import sklearn.metrics as metric\n",
    "fpr,tpr,thresholds = metric.roc_curve(ytest_dt,y_score_dt)\n",
    "\n",
    "import matplotlib.pyplot as plt\n",
    "plt.figure()\n",
    "plt.plot(fpr, tpr)\n",
    "plt.plot([0, 1], [0, 1], 'k--')\n",
    "plt.xlim([0.0, 1.0])\n",
    "plt.ylim([0.0, 1.05])\n",
    "plt.xlabel('False Positive Rate')\n",
    "plt.ylabel('True Positive Rate')\n",
    "plt.title('Receiver operating characteristic Curve')\n",
    "plt.legend(loc=\"lower right\")\n",
    "plt.show()\n",
    "\n",
    "print 'Area under ROC: ',metric.roc_auc_score(ytest_dt,y_score_dt)\n",
    "print 'Precision, Recall, Fscore:'\n",
    "metric.precision_recall_fscore_support(ytest_dt,clf.predict(Xtest_dt),average='binary')"
   ]
  },
  {
   "cell_type": "code",
   "execution_count": 142,
   "metadata": {
    "collapsed": false,
    "scrolled": true
   },
   "outputs": [
    {
     "name": "stdout",
     "output_type": "stream",
     "text": [
      "using mask\n",
      "BEST {'min_samples_split': 6, 'n_estimators': 19} 0.767872677376 [mean: 0.73487, std: 0.06946, params: {'min_samples_split': 1, 'n_estimators': 19}, mean: 0.72949, std: 0.07464, params: {'min_samples_split': 2, 'n_estimators': 19}, mean: 0.73549, std: 0.07088, params: {'min_samples_split': 4, 'n_estimators': 19}, mean: 0.76787, std: 0.11267, params: {'min_samples_split': 6, 'n_estimators': 19}]\n",
      "############# based on standard predict ################\n",
      "Accuracy on training data: 0.93\n",
      "Accuracy on test data:     0.74\n",
      "[[ 35029  65973]\n",
      " [ 21290 216141]]\n",
      "########################################################\n"
     ]
    },
    {
     "name": "stderr",
     "output_type": "stream",
     "text": [
      "C:\\Users\\mjanyavula\\AppData\\Local\\Continuum\\Anaconda2\\lib\\site-packages\\ipykernel\\__main__.py:46: FutureWarning: comparison to `None` will result in an elementwise object comparison in the future.\n"
     ]
    }
   ],
   "source": [
    "from sklearn.ensemble import RandomForestClassifier\n",
    "clfForest = RandomForestClassifier()\n",
    "\n",
    "parameters = {\"n_estimators\": [19], \"min_samples_split\":[1,2,4,6]}\n",
    "#parameters = {\"n_estimators\": range(1, 20)}\n",
    "clfForest, Xtrain, ytrain, Xtest, ytest = do_classify(clfForest, parameters, \n",
    "                                                       projects, c,'funding_status', 'completed', mask=mask, \n",
    "                                                       n_jobs = 4, score_func='f1')"
   ]
  },
  {
   "cell_type": "code",
   "execution_count": 148,
   "metadata": {
    "collapsed": false
   },
   "outputs": [
    {
     "data": {
      "text/plain": [
       "[83L,\n",
       " 85L,\n",
       " 87L,\n",
       " 83L,\n",
       " 82L,\n",
       " 85L,\n",
       " 85L,\n",
       " 82L,\n",
       " 85L,\n",
       " 91L,\n",
       " 84L,\n",
       " 93L,\n",
       " 84L,\n",
       " 84L,\n",
       " 83L,\n",
       " 91L,\n",
       " 79L,\n",
       " 90L,\n",
       " 94L]"
      ]
     },
     "execution_count": 148,
     "metadata": {},
     "output_type": "execute_result"
    }
   ],
   "source": [
    "# Depths of decision tress inside random forest classifier\n",
    "[estimator.tree_.max_depth for estimator in clfForest.estimators_]"
   ]
  },
  {
   "cell_type": "code",
   "execution_count": 144,
   "metadata": {
    "collapsed": false
   },
   "outputs": [
    {
     "name": "stdout",
     "output_type": "stream",
     "text": [
      "846082\n",
      "253407\n",
      "592675\n"
     ]
    }
   ],
   "source": [
    "print len(proj)\n",
    "print len(proj[proj.funding_status == 1])\n",
    "print len(proj[proj.funding_status == 0])"
   ]
  },
  {
   "cell_type": "code",
   "execution_count": 145,
   "metadata": {
    "collapsed": false,
    "scrolled": false
   },
   "outputs": [
    {
     "data": {
      "image/png": "[encoded data removed]",
      "text/plain": [
       "<matplotlib.figure.Figure at 0x8d5d9048>"
      ]
     },
     "metadata": {},
     "output_type": "display_data"
    },
    {
     "name": "stdout",
     "output_type": "stream",
     "text": [
      "Area under ROC:  0.751307983939\n",
      "Precision, Recall, Fscore:\n"
     ]
    },
    {
     "data": {
      "text/plain": [
       "(0.76614772751440907, 0.91033184377777121, 0.83203957308799048, None)"
      ]
     },
     "execution_count": 145,
     "metadata": {},
     "output_type": "execute_result"
    }
   ],
   "source": [
    "# Plot of a ROC curve for a specific class\n",
    "y_score = pd.DataFrame(clfForest.predict_proba(Xtest))[1]\n",
    "import sklearn.metrics as metric\n",
    "fpr,tpr,thresholds = metric.roc_curve(ytest,y_score)\n",
    "\n",
    "import matplotlib.pyplot as plt\n",
    "\n",
    "plt.figure()\n",
    "plt.plot(fpr, tpr)\n",
    "plt.plot([0, 1], [0, 1], 'k--')\n",
    "plt.xlim([0.0, 1.0])\n",
    "plt.ylim([0.0, 1.05])\n",
    "plt.xlabel('False Positive Rate')\n",
    "plt.ylabel('True Positive Rate')\n",
    "plt.title('Receiver operating characteristic Curve')\n",
    "plt.legend(loc=\"lower right\")\n",
    "plt.show()\n",
    "\n",
    "print 'Area under ROC: ',metric.roc_auc_score(ytest,y_score)\n",
    "print 'Precision, Recall, Fscore:'\n",
    "metric.precision_recall_fscore_support(ytest,clfForest.predict(Xtest),average='binary')"
   ]
  },
  {
   "cell_type": "code",
   "execution_count": 146,
   "metadata": {
    "collapsed": false
   },
   "outputs": [
    {
     "name": "stdout",
     "output_type": "stream",
     "text": [
      "Area under ROC:  0.751307983939\n"
     ]
    }
   ],
   "source": [
    "print 'Area under ROC: ',metric.roc_auc_score(ytest,y_score,average ='macro')"
   ]
  },
  {
   "cell_type": "code",
   "execution_count": 129,
   "metadata": {
    "collapsed": false
   },
   "outputs": [
    {
     "name": "stdout",
     "output_type": "stream",
     "text": [
      "using mask\n",
      "BEST {'C': 1000} 0.829492801009 [mean: 0.76004, std: 0.07081, params: {'C': 0.01}, mean: 0.75792, std: 0.07331, params: {'C': 0.1}, mean: 0.75752, std: 0.07398, params: {'C': 1}, mean: 0.82282, std: 0.00956, params: {'C': 10}, mean: 0.82608, std: 0.00491, params: {'C': 100}, mean: 0.82949, std: 0.01205, params: {'C': 1000}]\n",
      "############# based on standard predict ################\n",
      "Accuracy on training data: 0.72\n",
      "Accuracy on test data:     0.72\n",
      "[[ 17054  83948]\n",
      " [ 10776 226655]]\n",
      "########################################################\n"
     ]
    },
    {
     "name": "stderr",
     "output_type": "stream",
     "text": [
      "C:\\Users\\mjanyavula\\AppData\\Local\\Continuum\\Anaconda2\\lib\\site-packages\\ipykernel\\__main__.py:46: FutureWarning: comparison to `None` will result in an elementwise object comparison in the future.\n"
     ]
    }
   ],
   "source": [
    "# Logistic regression\n",
    "from sklearn.linear_model import LogisticRegression\n",
    "clfLog = LogisticRegression()\n",
    "\n",
    "#parameters = {\"multi_class\": ['ovr'],\"solver\":['newton-cg','lbfgs','liblinear','sag']}\n",
    "parameters = {\"C\":[0.01,0.1,1,10,100,1000]}\n",
    "clfLog, Xtrain_log, ytrain_log, Xtest_log, ytest_log = do_classify(clfLog, parameters, \n",
    "                                                       projects, c,'funding_status', 'completed', mask=mask, \n",
    "                                                       n_jobs = 4, score_func='f1')"
   ]
  },
  {
   "cell_type": "code",
   "execution_count": 136,
   "metadata": {
    "collapsed": false
   },
   "outputs": [
    {
     "data": {
      "text/plain": [
       "array([[ 0.17629347,  0.82370653],\n",
       "       [ 0.17887284,  0.82112716],\n",
       "       [ 0.23860268,  0.76139732],\n",
       "       ..., \n",
       "       [ 0.17258696,  0.82741304],\n",
       "       [ 0.47654763,  0.52345237],\n",
       "       [ 0.20429226,  0.79570774]])"
      ]
     },
     "execution_count": 136,
     "metadata": {},
     "output_type": "execute_result"
    }
   ],
   "source": [
    "clfLog.predict_proba(Xtest_log)"
   ]
  },
  {
   "cell_type": "code",
   "execution_count": 137,
   "metadata": {
    "collapsed": false
   },
   "outputs": [
    {
     "data": {
      "text/plain": [
       "array([1, 1, 1, ..., 1, 1, 1])"
      ]
     },
     "execution_count": 137,
     "metadata": {},
     "output_type": "execute_result"
    }
   ],
   "source": [
    "clfLog.predict(Xtest_log)"
   ]
  },
  {
   "cell_type": "code",
   "execution_count": 138,
   "metadata": {
    "collapsed": false
   },
   "outputs": [
    {
     "data": {
      "image/png": "[encoded data removed]",
      "text/plain": [
       "<matplotlib.figure.Figure at 0x231d9208>"
      ]
     },
     "metadata": {},
     "output_type": "display_data"
    },
    {
     "name": "stdout",
     "output_type": "stream",
     "text": [
      "Area under ROC:  0.699949238831\n",
      "Precision, Recall, Fscore:\n"
     ]
    },
    {
     "data": {
      "text/plain": [
       "(0.72972572705350558, 0.95461418264674791, 0.82715670925526519, None)"
      ]
     },
     "execution_count": 138,
     "metadata": {},
     "output_type": "execute_result"
    }
   ],
   "source": [
    "# Plot of a ROC curve for a specific class\n",
    "y_score = pd.DataFrame(clfLog.predict_proba(Xtest_log))[1]\n",
    "import sklearn.metrics as metric\n",
    "fpr,tpr,thresholds = metric.roc_curve(ytest_log,y_score)\n",
    "\n",
    "import matplotlib.pyplot as plt\n",
    "\n",
    "plt.figure()\n",
    "plt.plot(fpr, tpr)\n",
    "plt.plot([0, 1], [0, 1], 'k--')\n",
    "plt.xlim([0.0, 1.0])\n",
    "plt.ylim([0.0, 1.05])\n",
    "plt.xlabel('False Positive Rate')\n",
    "plt.ylabel('True Positive Rate')\n",
    "plt.title('Receiver operating characteristic Curve')\n",
    "plt.legend(loc=\"lower right\")\n",
    "plt.show()\n",
    "\n",
    "print 'Area under ROC: ',metric.roc_auc_score(ytest_log,y_score)\n",
    "print 'Precision, Recall, Fscore:'\n",
    "metric.precision_recall_fscore_support(ytest_log,clfLog.predict(Xtest_log), average='binary')"
   ]
  },
  {
   "cell_type": "code",
   "execution_count": 139,
   "metadata": {
    "collapsed": false
   },
   "outputs": [
    {
     "name": "stdout",
     "output_type": "stream",
     "text": [
      "24.6729197114 0.96724874246 3\n"
     ]
    }
   ],
   "source": [
    "best_ratio = 0\n",
    "for i,threshold in enumerate(thresholds):\n",
    "    ratio = tpr[i]/fpr[i]\n",
    "    if (ratio > best_ratio) & (ratio != np.inf):\n",
    "        best_ratio = ratio\n",
    "        best_threshold = threshold\n",
    "        best_index = i\n",
    "\n",
    "print best_ratio,best_threshold, best_index"
   ]
  },
  {
   "cell_type": "code",
   "execution_count": 140,
   "metadata": {
    "collapsed": false
   },
   "outputs": [
    {
     "data": {
      "text/plain": [
       "0.00024428149651898869"
      ]
     },
     "execution_count": 140,
     "metadata": {},
     "output_type": "execute_result"
    }
   ],
   "source": [
    "tpr[3]"
   ]
  },
  {
   "cell_type": "code",
   "execution_count": 141,
   "metadata": {
    "collapsed": false
   },
   "outputs": [
    {
     "data": {
      "text/plain": [
       "0.9672487424604036"
      ]
     },
     "execution_count": 141,
     "metadata": {},
     "output_type": "execute_result"
    }
   ],
   "source": [
    "thresholds[3]"
   ]
  },
  {
   "cell_type": "code",
   "execution_count": 162,
   "metadata": {
    "collapsed": false
   },
   "outputs": [
    {
     "data": {
      "image/png": "[encoded data removed]",
      "text/plain": [
       "<matplotlib.figure.Figure at 0x11d27080>"
      ]
     },
     "metadata": {},
     "output_type": "display_data"
    }
   ],
   "source": [
    "# TODO: Need to check, not sure\n",
    "importance_list = clfForest.feature_importances_\n",
    "name_list = proj[['total_price_including_optional_support','school_metro','primary_focus_subject','school_state','poverty_level','grade_level','resource_type',\n",
    "                 'school_charter_ready_promise','eligible_double_your_impact_match','eligible_almost_home_match','teacher_teach_for_america','teacher_ny_teaching_fellow']].columns\n",
    "importance_list, name_list = zip(*sorted(zip(importance_list, name_list)))\n",
    "plt.barh(range(len(name_list)),importance_list,align='center')\n",
    "plt.yticks(range(len(name_list)),name_list)\n",
    "plt.xlabel('Relative Importance in the Random Forest')\n",
    "plt.ylabel('Features')\n",
    "plt.title('Relative importance of Each Feature')\n",
    "plt.show()"
   ]
  },
  {
   "cell_type": "code",
   "execution_count": 56,
   "metadata": {
    "collapsed": false
   },
   "outputs": [
    {
     "name": "stdout",
     "output_type": "stream",
     "text": [
      "using mask\n",
      "BEST {'n_estimators': 54} 0.277366897252 [mean: 0.17057, std: 0.06072, params: {'n_estimators': 10}, mean: 0.17425, std: 0.05650, params: {'n_estimators': 11}, mean: 0.16147, std: 0.04943, params: {'n_estimators': 12}, mean: 0.19578, std: 0.05446, params: {'n_estimators': 13}, mean: 0.16635, std: 0.03907, params: {'n_estimators': 14}, mean: 0.24163, std: 0.03993, params: {'n_estimators': 15}, mean: 0.19067, std: 0.07721, params: {'n_estimators': 16}, mean: 0.25115, std: 0.06936, params: {'n_estimators': 17}, mean: 0.20794, std: 0.03009, params: {'n_estimators': 18}, mean: 0.24373, std: 0.06432, params: {'n_estimators': 19}, mean: 0.21960, std: 0.05888, params: {'n_estimators': 20}, mean: 0.24783, std: 0.06627, params: {'n_estimators': 21}, mean: 0.21129, std: 0.08625, params: {'n_estimators': 22}, mean: 0.21607, std: 0.06902, params: {'n_estimators': 23}, mean: 0.25217, std: 0.06494, params: {'n_estimators': 24}, mean: 0.22186, std: 0.08220, params: {'n_estimators': 25}, mean: 0.26914, std: 0.04622, params: {'n_estimators': 26}, mean: 0.23914, std: 0.07054, params: {'n_estimators': 27}, mean: 0.24075, std: 0.04827, params: {'n_estimators': 28}, mean: 0.24338, std: 0.08073, params: {'n_estimators': 29}, mean: 0.23657, std: 0.07145, params: {'n_estimators': 30}, mean: 0.26477, std: 0.07829, params: {'n_estimators': 31}, mean: 0.23655, std: 0.05513, params: {'n_estimators': 32}, mean: 0.24674, std: 0.06402, params: {'n_estimators': 33}, mean: 0.23204, std: 0.05655, params: {'n_estimators': 34}, mean: 0.25075, std: 0.05235, params: {'n_estimators': 35}, mean: 0.22860, std: 0.06955, params: {'n_estimators': 36}, mean: 0.24048, std: 0.07130, params: {'n_estimators': 37}, mean: 0.23107, std: 0.08140, params: {'n_estimators': 38}, mean: 0.23829, std: 0.04630, params: {'n_estimators': 39}, mean: 0.24937, std: 0.03679, params: {'n_estimators': 40}, mean: 0.24392, std: 0.06721, params: {'n_estimators': 41}, mean: 0.23203, std: 0.05485, params: {'n_estimators': 42}, mean: 0.25091, std: 0.06833, params: {'n_estimators': 43}, mean: 0.26309, std: 0.08812, params: {'n_estimators': 44}, mean: 0.22585, std: 0.05589, params: {'n_estimators': 45}, mean: 0.27041, std: 0.06873, params: {'n_estimators': 46}, mean: 0.20047, std: 0.04799, params: {'n_estimators': 47}, mean: 0.24807, std: 0.07482, params: {'n_estimators': 48}, mean: 0.22301, std: 0.05550, params: {'n_estimators': 49}, mean: 0.24671, std: 0.07547, params: {'n_estimators': 50}, mean: 0.23342, std: 0.08845, params: {'n_estimators': 51}, mean: 0.23870, std: 0.08612, params: {'n_estimators': 52}, mean: 0.23930, std: 0.06004, params: {'n_estimators': 53}, mean: 0.27737, std: 0.05484, params: {'n_estimators': 54}, mean: 0.24574, std: 0.06875, params: {'n_estimators': 55}, mean: 0.26174, std: 0.06880, params: {'n_estimators': 56}, mean: 0.23115, std: 0.06394, params: {'n_estimators': 57}, mean: 0.24389, std: 0.06545, params: {'n_estimators': 58}, mean: 0.22906, std: 0.06255, params: {'n_estimators': 59}]\n",
      "############# based on standard predict ################\n",
      "Accuracy on training data: 0.72\n",
      "Accuracy on test data:     0.72\n",
      "[[235396  15028]\n",
      " [ 83483  17512]]\n",
      "########################################################\n"
     ]
    },
    {
     "name": "stderr",
     "output_type": "stream",
     "text": [
      "C:\\Users\\mjanyavula\\AppData\\Local\\Continuum\\Anaconda2\\lib\\site-packages\\ipykernel\\__main__.py:46: FutureWarning: comparison to `None` will result in an elementwise object comparison in the future.\n"
     ]
    }
   ],
   "source": [
    "from sklearn.ensemble import AdaBoostClassifier\n",
    "clfAda = AdaBoostClassifier()\n",
    "\n",
    "parameters = {\"n_estimators\": range(10, 60)}\n",
    "clfAda, Xtrain, ytrain, Xtest, ytest = do_classify(clfAda, parameters, \n",
    "                                                       proj, c,'funding_status', 1, mask=mask, \n",
    "                                                       n_jobs = 4, score_func='f1')"
   ]
  }
 ],
 "metadata": {
  "kernelspec": {
   "display_name": "Python 2",
   "language": "python",
   "name": "python2"
  },
  "language_info": {
   "codemirror_mode": {
    "name": "ipython",
    "version": 2
   },
   "file_extension": ".py",
   "mimetype": "text/x-python",
   "name": "python",
   "nbconvert_exporter": "python",
   "pygments_lexer": "ipython2",
   "version": "2.7.11"
  }
 },
 "nbformat": 4,
 "nbformat_minor": 0
}
