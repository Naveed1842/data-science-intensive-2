{
 "cells": [
  {
   "cell_type": "code",
   "execution_count": 2,
   "metadata": {
    "collapsed": true
   },
   "outputs": [],
   "source": [
    "%matplotlib inline\n",
    "import pandas as pd\n",
    "import numpy as np\n",
    "import matplotlib.pyplot as plt\n",
    "import matplotlib.mlab as mlab\n",
    "import math"
   ]
  },
  {
   "cell_type": "code",
   "execution_count": 90,
   "metadata": {
    "collapsed": false
   },
   "outputs": [
    {
     "data": {
      "text/html": [
       "<div>\n",
       "<table border=\"1\" class=\"dataframe\">\n",
       "  <thead>\n",
       "    <tr style=\"text-align: right;\">\n",
       "      <th></th>\n",
       "      <th>_donationid</th>\n",
       "      <th>_projectid</th>\n",
       "      <th>_donor_acctid</th>\n",
       "      <th>_cartid</th>\n",
       "      <th>donor_city</th>\n",
       "      <th>donor_state</th>\n",
       "      <th>donor_zip</th>\n",
       "      <th>is_teacher_acct</th>\n",
       "      <th>donation_timestamp</th>\n",
       "      <th>donation_to_project</th>\n",
       "      <th>...</th>\n",
       "      <th>donation_included_optional_support</th>\n",
       "      <th>payment_method</th>\n",
       "      <th>payment_included_acct_credit</th>\n",
       "      <th>payment_included_campaign_gift_card</th>\n",
       "      <th>payment_included_web_purchased_gift_card</th>\n",
       "      <th>payment_was_promo_matched</th>\n",
       "      <th>via_giving_page</th>\n",
       "      <th>for_honoree</th>\n",
       "      <th>thank_you_packet_mailed</th>\n",
       "      <th>donation_message</th>\n",
       "    </tr>\n",
       "  </thead>\n",
       "  <tbody>\n",
       "    <tr>\n",
       "      <th>0</th>\n",
       "      <td>00000ce845c00cbf0686c992fc369df4</td>\n",
       "      <td>7be7184572a67468a2ef4402e7de6c99</td>\n",
       "      <td>01e2385f52c03386ee345c517be8f84e</td>\n",
       "      <td>NaN</td>\n",
       "      <td>NaN</td>\n",
       "      <td>NY</td>\n",
       "      <td>NaN</td>\n",
       "      <td>f</td>\n",
       "      <td>36:26.8</td>\n",
       "      <td>21.25</td>\n",
       "      <td>...</td>\n",
       "      <td>t</td>\n",
       "      <td>promo_code_match</td>\n",
       "      <td>f</td>\n",
       "      <td>f</td>\n",
       "      <td>f</td>\n",
       "      <td>f</td>\n",
       "      <td>f</td>\n",
       "      <td>f</td>\n",
       "      <td>f</td>\n",
       "      <td>Friends and Family matching donation provided ...</td>\n",
       "    </tr>\n",
       "    <tr>\n",
       "      <th>1</th>\n",
       "      <td>0000174d1d38072889d47e51b587a10c</td>\n",
       "      <td>fbef21e4fdf303eebe6c48b99ef9de8f</td>\n",
       "      <td>f495e99822acc50e934a57943400bcfe</td>\n",
       "      <td>db07e0db53dfa402c4a2aa02d46583d4</td>\n",
       "      <td>San Francisco</td>\n",
       "      <td>CA</td>\n",
       "      <td>941</td>\n",
       "      <td>f</td>\n",
       "      <td>07:26.1</td>\n",
       "      <td>1817.36</td>\n",
       "      <td>...</td>\n",
       "      <td>t</td>\n",
       "      <td>no_cash_received</td>\n",
       "      <td>t</td>\n",
       "      <td>f</td>\n",
       "      <td>f</td>\n",
       "      <td>f</td>\n",
       "      <td>t</td>\n",
       "      <td>f</td>\n",
       "      <td>f</td>\n",
       "      <td>Chevron is committed to securing California’s ...</td>\n",
       "    </tr>\n",
       "    <tr>\n",
       "      <th>2</th>\n",
       "      <td>0000219e4b37d2504fb6b8c28e24a2d4</td>\n",
       "      <td>b4afbc05ce9ff8420c176810bd59db79</td>\n",
       "      <td>d63c0d8e5b76530d476486e3336e1f3c</td>\n",
       "      <td>9bd9e83716ecd6bee6e467e9b82964ab</td>\n",
       "      <td>Ballwin</td>\n",
       "      <td>MO</td>\n",
       "      <td>630</td>\n",
       "      <td>f</td>\n",
       "      <td>29:59.3</td>\n",
       "      <td>40.43</td>\n",
       "      <td>...</td>\n",
       "      <td>t</td>\n",
       "      <td>paypal</td>\n",
       "      <td>f</td>\n",
       "      <td>f</td>\n",
       "      <td>f</td>\n",
       "      <td>f</td>\n",
       "      <td>f</td>\n",
       "      <td>f</td>\n",
       "      <td>f</td>\n",
       "      <td>I donated because the project will bring impor...</td>\n",
       "    </tr>\n",
       "    <tr>\n",
       "      <th>3</th>\n",
       "      <td>0000300773fe015f870914b42528541b</td>\n",
       "      <td>f8fac919961560831eac7e5dd05c872d</td>\n",
       "      <td>e0dd67c660dc50ec1b2dadf37f3c65d4</td>\n",
       "      <td>NaN</td>\n",
       "      <td>NaN</td>\n",
       "      <td>NY</td>\n",
       "      <td>100</td>\n",
       "      <td>f</td>\n",
       "      <td>54:57.7</td>\n",
       "      <td>21.25</td>\n",
       "      <td>...</td>\n",
       "      <td>t</td>\n",
       "      <td>promo_code_match</td>\n",
       "      <td>f</td>\n",
       "      <td>f</td>\n",
       "      <td>f</td>\n",
       "      <td>f</td>\n",
       "      <td>t</td>\n",
       "      <td>f</td>\n",
       "      <td>f</td>\n",
       "      <td>Courtesy of an anonymous donor. Best of luck w...</td>\n",
       "    </tr>\n",
       "    <tr>\n",
       "      <th>4</th>\n",
       "      <td>000048290a3054197cc33ba82633d7c3</td>\n",
       "      <td>de2f3691169dd3439ee37a78b49296e7</td>\n",
       "      <td>f00a2c100229d370655841ed8341baed</td>\n",
       "      <td>49e3f476b31da5bcd1d077e2c491d1b3</td>\n",
       "      <td>NaN</td>\n",
       "      <td>TN</td>\n",
       "      <td>373</td>\n",
       "      <td>t</td>\n",
       "      <td>58:11.7</td>\n",
       "      <td>0.88</td>\n",
       "      <td>...</td>\n",
       "      <td>t</td>\n",
       "      <td>no_cash_received</td>\n",
       "      <td>t</td>\n",
       "      <td>f</td>\n",
       "      <td>f</td>\n",
       "      <td>f</td>\n",
       "      <td>t</td>\n",
       "      <td>f</td>\n",
       "      <td>f</td>\n",
       "      <td>Good Luck! :)</td>\n",
       "    </tr>\n",
       "  </tbody>\n",
       "</table>\n",
       "<p>5 rows × 23 columns</p>\n",
       "</div>"
      ],
      "text/plain": [
       "                        _donationid                        _projectid  \\\n",
       "0  00000ce845c00cbf0686c992fc369df4  7be7184572a67468a2ef4402e7de6c99   \n",
       "1  0000174d1d38072889d47e51b587a10c  fbef21e4fdf303eebe6c48b99ef9de8f   \n",
       "2  0000219e4b37d2504fb6b8c28e24a2d4  b4afbc05ce9ff8420c176810bd59db79   \n",
       "3  0000300773fe015f870914b42528541b  f8fac919961560831eac7e5dd05c872d   \n",
       "4  000048290a3054197cc33ba82633d7c3  de2f3691169dd3439ee37a78b49296e7   \n",
       "\n",
       "                      _donor_acctid                           _cartid  \\\n",
       "0  01e2385f52c03386ee345c517be8f84e                               NaN   \n",
       "1  f495e99822acc50e934a57943400bcfe  db07e0db53dfa402c4a2aa02d46583d4   \n",
       "2  d63c0d8e5b76530d476486e3336e1f3c  9bd9e83716ecd6bee6e467e9b82964ab   \n",
       "3  e0dd67c660dc50ec1b2dadf37f3c65d4                               NaN   \n",
       "4  f00a2c100229d370655841ed8341baed  49e3f476b31da5bcd1d077e2c491d1b3   \n",
       "\n",
       "      donor_city donor_state donor_zip is_teacher_acct donation_timestamp  \\\n",
       "0            NaN          NY       NaN               f            36:26.8   \n",
       "1  San Francisco          CA       941               f            07:26.1   \n",
       "2        Ballwin          MO       630               f            29:59.3   \n",
       "3            NaN          NY       100               f            54:57.7   \n",
       "4            NaN          TN       373               t            58:11.7   \n",
       "\n",
       "  donation_to_project                        ...                          \\\n",
       "0               21.25                        ...                           \n",
       "1             1817.36                        ...                           \n",
       "2               40.43                        ...                           \n",
       "3               21.25                        ...                           \n",
       "4                0.88                        ...                           \n",
       "\n",
       "   donation_included_optional_support    payment_method  \\\n",
       "0                                   t  promo_code_match   \n",
       "1                                   t  no_cash_received   \n",
       "2                                   t            paypal   \n",
       "3                                   t  promo_code_match   \n",
       "4                                   t  no_cash_received   \n",
       "\n",
       "  payment_included_acct_credit payment_included_campaign_gift_card  \\\n",
       "0                            f                                   f   \n",
       "1                            t                                   f   \n",
       "2                            f                                   f   \n",
       "3                            f                                   f   \n",
       "4                            t                                   f   \n",
       "\n",
       "  payment_included_web_purchased_gift_card payment_was_promo_matched  \\\n",
       "0                                        f                         f   \n",
       "1                                        f                         f   \n",
       "2                                        f                         f   \n",
       "3                                        f                         f   \n",
       "4                                        f                         f   \n",
       "\n",
       "  via_giving_page for_honoree thank_you_packet_mailed  \\\n",
       "0               f           f                       f   \n",
       "1               t           f                       f   \n",
       "2               f           f                       f   \n",
       "3               t           f                       f   \n",
       "4               t           f                       f   \n",
       "\n",
       "                                    donation_message  \n",
       "0  Friends and Family matching donation provided ...  \n",
       "1  Chevron is committed to securing California’s ...  \n",
       "2  I donated because the project will bring impor...  \n",
       "3  Courtesy of an anonymous donor. Best of luck w...  \n",
       "4                                      Good Luck! :)  \n",
       "\n",
       "[5 rows x 23 columns]"
      ]
     },
     "execution_count": 90,
     "metadata": {},
     "output_type": "execute_result"
    }
   ],
   "source": [
    "donations = pd.DataFrame.from_csv('opendata_donations.csv', index_col=None).ix[:,0:23]\n",
    "donations = donations.rename(columns=lambda x: x.strip()) # removing whitespaces from columns\n",
    "donations = donations[(donations.donor_zip!='SC')&(donations.donor_zip!='NY')&(donations.donor_zip!='NJ')&(donations.donor_zip!='TX')]\n",
    "#donations = donations[(donations.donor_city!='\" everything\\\"')&(donations.donor_city!='\" inventor\\\"')&(donations.donor_city!='\" Flight Recorders. The other plotting sister is learning to play recorder\\\"')]\n",
    "#donations = donations.dropna()[donations.donor_state != 'ozone park'] \n",
    "donations.head(5)"
   ]
  },
  {
   "cell_type": "code",
   "execution_count": 85,
   "metadata": {
    "collapsed": false,
    "scrolled": true
   },
   "outputs": [
    {
     "name": "stdout",
     "output_type": "stream",
     "text": [
      "Mean and Variance: 76.9942709157 82093.7525665\n"
     ]
    },
    {
     "data": {
      "image/png": "[encoded data removed]",
      "text/plain": [
       "<matplotlib.figure.Figure at 0x11a946588>"
      ]
     },
     "metadata": {},
     "output_type": "display_data"
    }
   ],
   "source": [
    "# Checking if Donation amounts form a normal distribution\n",
    "mean = donations['donation_total'].mean()\n",
    "variance = donations['donation_total'].var()\n",
    "print 'Mean and Variance:',mean,variance\n",
    "sigma = math.sqrt(variance)\n",
    "x = np.linspace(-1000,1000)\n",
    "plt.plot(x,mlab.normpdf(x,mean,sigma))\n",
    "plt.show()"
   ]
  },
  {
   "cell_type": "markdown",
   "metadata": {},
   "source": [
    "*Donation amount does have a normal distribution*"
   ]
  },
  {
   "cell_type": "markdown",
   "metadata": {},
   "source": [
    "### 1) How does state where donor resides affect the donation amount ?"
   ]
  },
  {
   "cell_type": "code",
   "execution_count": 93,
   "metadata": {
    "collapsed": false
   },
   "outputs": [],
   "source": [
    "# 1) Plot between Donation State and Donation Amount\n",
    "d = donations\n",
    "# Removing states that have less than 100 donations\n",
    "d = d[(d.donor_state != 'ozone park')&(d.donor_state != 'AA') & (d.donor_state != 'AS') & (d.donor_state != 'GU') & (d.donor_state !='MP') & (d.donor_state !='PR') & (d.donor_state != 'VI') & (d.donor_state != 'AP')]\n",
    "d.loc[:,'donor_state']\n",
    "d = d.groupby(by='donor_state')"
   ]
  },
  {
   "cell_type": "code",
   "execution_count": 94,
   "metadata": {
    "collapsed": false,
    "scrolled": true
   },
   "outputs": [
    {
     "data": {
      "text/plain": [
       "<matplotlib.axes._subplots.AxesSubplot at 0x1528bc5c0>"
      ]
     },
     "execution_count": 94,
     "metadata": {},
     "output_type": "execute_result"
    },
    {
     "data": {
      "image/png": "[encoded data removed]",
      "text/plain": [
       "<matplotlib.figure.Figure at 0x13a8b64e0>"
      ]
     },
     "metadata": {},
     "output_type": "display_data"
    }
   ],
   "source": [
    "d_mean = d['donation_total'].mean()\n",
    "d_mean.plot(kind='bar',figsize=(20,5))"
   ]
  },
  {
   "cell_type": "markdown",
   "metadata": {},
   "source": [
    "### 2) Who donates the most - teacher or non-teacher ?"
   ]
  },
  {
   "cell_type": "code",
   "execution_count": 95,
   "metadata": {
    "collapsed": false,
    "scrolled": true
   },
   "outputs": [
    {
     "data": {
      "text/plain": [
       "<matplotlib.axes._subplots.AxesSubplot at 0x16d751860>"
      ]
     },
     "execution_count": 95,
     "metadata": {},
     "output_type": "execute_result"
    },
    {
     "data": {
      "image/png": "[encoded data removed]",
      "text/plain": [
       "<matplotlib.figure.Figure at 0x1390b7828>"
      ]
     },
     "metadata": {},
     "output_type": "display_data"
    }
   ],
   "source": [
    "#2) Plot between IsTeacher and Donation Amount\n",
    "d = donations.groupby(by='is_teacher_acct')\n",
    "d_mean = d['donation_total'].mean()\n",
    "d_mean.plot(kind='bar',figsize=(7,5))"
   ]
  },
  {
   "cell_type": "markdown",
   "metadata": {},
   "source": [
    "** Teachers donate way less compared to others **"
   ]
  },
  {
   "cell_type": "code",
   "execution_count": 96,
   "metadata": {
    "collapsed": false,
    "scrolled": true
   },
   "outputs": [
    {
     "data": {
      "text/plain": [
       "is_teacher_acct\n",
       "f    893801\n",
       "t    150890\n",
       "Name: donation_total, dtype: int64"
      ]
     },
     "execution_count": 96,
     "metadata": {},
     "output_type": "execute_result"
    }
   ],
   "source": [
    "d['donation_total'].count()"
   ]
  },
  {
   "cell_type": "markdown",
   "metadata": {},
   "source": [
    "### 3) How does payment type vary with donation amount ?"
   ]
  },
  {
   "cell_type": "code",
   "execution_count": 97,
   "metadata": {
    "collapsed": false,
    "scrolled": false
   },
   "outputs": [
    {
     "data": {
      "text/plain": [
       "<matplotlib.axes._subplots.AxesSubplot at 0x16c887358>"
      ]
     },
     "execution_count": 97,
     "metadata": {},
     "output_type": "execute_result"
    },
    {
     "data": {
      "image/png": "[encoded data removed]",
      "text/plain": [
       "<matplotlib.figure.Figure at 0x16e1c8dd8>"
      ]
     },
     "metadata": {},
     "output_type": "display_data"
    }
   ],
   "source": [
    "#3) Plot between payment type and Donation Amount\n",
    "d = donations.groupby(by='payment_method')\n",
    "d_mean = d['donation_total'].mean()\n",
    "d_mean.plot(kind='bar',figsize=(20,5))"
   ]
  },
  {
   "cell_type": "markdown",
   "metadata": {},
   "source": [
    "### 4) How does donation type vary with donation amount ?"
   ]
  },
  {
   "cell_type": "code",
   "execution_count": 102,
   "metadata": {
    "collapsed": false
   },
   "outputs": [
    {
     "name": "stdout",
     "output_type": "stream",
     "text": [
      "27429 422273 600469\n",
      "Average Donation amount if Honoree is included: 77.5748824237\n",
      "Average Donation amount via Giving page: 80.866552633\n",
      "Average Donation amount for not in the category: 74.6943260518\n"
     ]
    }
   ],
   "source": [
    "#4) Plot between Donation type and Donation amount\n",
    "d = donations\n",
    "d1 = d[d.for_honoree == 't']['donation_total']\n",
    "d2 = d[d.via_giving_page == 't']['donation_total']\n",
    "d3 = d[(d.for_honoree == 'f') & (d.via_giving_page == 'f')]['donation_total']\n",
    "print d1.count(),d2.count(),d3.count()\n",
    "print 'Average Donation amount if Honoree is included:',d1.mean()\n",
    "print 'Average Donation amount via Giving page:',d2.mean()\n",
    "print 'Average Donation amount for not in the category:',d3.mean()"
   ]
  },
  {
   "cell_type": "markdown",
   "metadata": {},
   "source": [
    "**It is found that people on an average donate more via a referral/friend's giving page than on their own **"
   ]
  }
 ],
 "metadata": {
  "kernelspec": {
   "display_name": "Python 2",
   "language": "python",
   "name": "python2"
  },
  "language_info": {
   "codemirror_mode": {
    "name": "ipython",
    "version": 2
   },
   "file_extension": ".py",
   "mimetype": "text/x-python",
   "name": "python",
   "nbconvert_exporter": "python",
   "pygments_lexer": "ipython2",
   "version": "2.7.11"
  }
 },
 "nbformat": 4,
 "nbformat_minor": 0
}
