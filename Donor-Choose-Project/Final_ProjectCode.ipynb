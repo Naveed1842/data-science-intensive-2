{
 "cells": [
  {
   "cell_type": "markdown",
   "metadata": {},
   "source": [
    "## Import all required modules"
   ]
  },
  {
   "cell_type": "code",
   "execution_count": 13,
   "metadata": {
    "collapsed": true
   },
   "outputs": [],
   "source": [
    "%matplotlib inline\n",
    "import pandas as pd\n",
    "import numpy as np\n",
    "import matplotlib.pyplot as plt\n",
    "import scipy.stats as stats\n",
    "import sklearn\n",
    "import statsmodels.api as sm\n",
    "\n",
    "import sklearn.metrics as metric\n",
    "from sklearn.metrics import confusion_matrix\n",
    "\n",
    "import seaborn as sns\n",
    "sns.set_style(\"whitegrid\")\n",
    "sns.set_context(\"poster\")\n",
    "\n",
    "# special matplotlib argument for improved plots\n",
    "from matplotlib import rcParams"
   ]
  },
  {
   "cell_type": "markdown",
   "metadata": {},
   "source": [
    "## Load projects data from csv"
   ]
  },
  {
   "cell_type": "code",
   "execution_count": 2,
   "metadata": {
    "collapsed": false
   },
   "outputs": [],
   "source": [
    "def load_projects():\n",
    "    projects = pd.DataFrame.from_csv('opendata_projects.csv', index_col=None)\n",
    "    #print projects.head()\n",
    "    return projects"
   ]
  },
  {
   "cell_type": "markdown",
   "metadata": {},
   "source": [
    "## Data wrangling\n"
   ]
  },
  {
   "cell_type": "code",
   "execution_count": 4,
   "metadata": {
    "collapsed": true
   },
   "outputs": [],
   "source": [
    "from sklearn import preprocessing\n",
    "\n",
    "def data_wrangling(projects):\n",
    "#Consider only projects that have some price and either completed or expired projects\n",
    "    projects = projects[(projects.total_price_including_optional_support > 0) \n",
    "                        & (projects.funding_status == 'completed') \n",
    "                        | (projects.funding_status == 'expired')]\n",
    "    projects.loc[:,'date_posted'] = pd.to_datetime(projects['date_posted'])\n",
    "    projects.loc[:,'year'] = projects['date_posted'].dt.year\n",
    "    projects.loc[:,'month'] = projects['date_posted'].dt.month\n",
    "    projects.loc[:,'date_posted_1'] = projects['date_posted'].map(lambda x: 100*x.year + x.month) \n",
    "    \n",
    "    # Label Encoding categories\n",
    "    le = preprocessing.LabelEncoder()\n",
    "    projects_label = projects.apply(le.fit_transform)\n",
    "    return projects, projects_label\n"
   ]
  },
  {
   "cell_type": "markdown",
   "metadata": {},
   "source": [
    "## Prepare Input Features"
   ]
  },
  {
   "cell_type": "code",
   "execution_count": 6,
   "metadata": {
    "collapsed": true
   },
   "outputs": [],
   "source": [
    "def prepare_features(projects,projects_label):\n",
    "    # Categorical features- Using OnHotEncode for categorical features\n",
    "    enc = preprocessing.OneHotEncoder()\n",
    "    onehot_f = enc.fit_transform(projects_label[['school_metro','primary_focus_subject','school_state','poverty_level','grade_level',\n",
    "                                'resource_type','year','month']]).toarray()\n",
    "\n",
    "    # Boolean features\n",
    "    boolean_f = projects_label.as_matrix([['school_charter','school_magnet','school_year_round','school_nlns','school_kipp',\n",
    "                                 'school_charter_ready_promise','eligible_double_your_impact_match','eligible_almost_home_match',\n",
    "                                 'teacher_teach_for_america','teacher_ny_teaching_fellow']])\n",
    "\n",
    "    # Numerical feature\n",
    "    numerical_f = projects.as_matrix([['total_price_including_optional_support']])\n",
    "\n",
    "    ## Concatenate all features to use as input to model\n",
    "    feature_array = np.concatenate((onehot_f,boolean_f,numerical_f),axis=1)\n",
    "    \n",
    "    return feature_array\n",
    "    "
   ]
  },
  {
   "cell_type": "markdown",
   "metadata": {},
   "source": [
    "## Prepare Training and Testing data"
   ]
  },
  {
   "cell_type": "code",
   "execution_count": 7,
   "metadata": {
    "collapsed": true
   },
   "outputs": [],
   "source": [
    "from sklearn.cross_validation import train_test_split\n",
    "def create_train_test_data(projects_label,train_size):\n",
    "    # Create test/train mask\n",
    "    itrain, itest = train_test_split(xrange(projects_label.shape[0]), train_size=train_size)\n",
    "    mask=np.ones(projects_label.shape[0], dtype='int')\n",
    "    mask[itrain]=1\n",
    "    mask[itest]=0\n",
    "    mask = (mask==1)\n",
    "    \n",
    "    # make sure the mask selection is even and we didnt get unlucky\n",
    "    print \"% Project Success in training data:\", np.mean(projects_label.funding_status[mask])\n",
    "    print \"% Project Success in test data:\", np.mean(projects_label.funding_status[~mask])\n",
    "    return mask"
   ]
  },
  {
   "cell_type": "markdown",
   "metadata": {},
   "source": [
    "## Classification and Optimization based on GridSearchCV"
   ]
  },
  {
   "cell_type": "code",
   "execution_count": 8,
   "metadata": {
    "collapsed": true
   },
   "outputs": [],
   "source": [
    "from sklearn.grid_search import GridSearchCV\n",
    "from sklearn.cross_validation import train_test_split\n",
    "from sklearn.metrics import confusion_matrix\n",
    "\n",
    "# - - - - - - - - - - - - - - - - - - - - - - - - - - - - - - - - - - - - - - - - - - #\n",
    "# clf - original classifier\n",
    "# parameters - grid to search over\n",
    "# X - usually your training X matrix\n",
    "# y - usually your training y \n",
    "# - - - - - - - - - - - - - - - - - - - - - - - - - - - - - - - - - - - - - - - - - - #\n",
    "def cv_optimize(clf, parameters, X, y, n_jobs=1, n_folds=5, score_func=None):\n",
    "    if score_func:\n",
    "        gs = GridSearchCV(clf, param_grid=parameters, cv=n_folds, n_jobs=n_jobs, scoring=score_func)\n",
    "    else:\n",
    "        gs = GridSearchCV(clf, param_grid=parameters, n_jobs=n_jobs, cv=n_folds)\n",
    "    gs.fit(X, y)\n",
    "    print \"BEST\", gs.best_params_, gs.best_score_, gs.grid_scores_\n",
    "    best = gs.best_estimator_\n",
    "    return best\n",
    "\n",
    "# - - - - - - - - - - - - - - - - - - - - - - - - - - - - - - - - - - - - - - - - - - #\n",
    "# Important parameters\n",
    "# indf - Input dataframe\n",
    "# feature_array - input feature array\n",
    "# targetname - name of column you want to predict (e.g. 0 or 1, 'M' or 'F', \n",
    "#              'yes' or 'no')\n",
    "# target1val - particular value you want to have as a 1 in the target\n",
    "# mask - boolean vector indicating test set (~mask is training set)\n",
    "# reuse_split - dictionary that contains traning and testing dataframes \n",
    "#              (we'll use this to test different classifiers on the same \n",
    "#              test-train splits)\n",
    "# score_func - we've used the accuracy as a way of scoring algorithms but \n",
    "#              this can be more general later on\n",
    "# n_folds - Number of folds for cross validation ()\n",
    "# n_jobs - used for parallelization\n",
    "# - - - - - - - - - - - - - - - - - - - - - - - - - - - - - - - - - - - - - - - - - - #\n",
    "# Classification\n",
    "def do_classify(clf, parameters, indf, feature_array, targetname, target1val, mask=None, reuse_split=None, score_func=None,\n",
    "                n_folds=5, n_jobs=1):\n",
    "    X=feature_array\n",
    "    y=(indf[targetname].values==target1val)*1\n",
    "    if mask !=None:\n",
    "        print \"using mask\"\n",
    "        Xtrain, Xtest, ytrain, ytest = X[mask], X[~mask], y[mask], y[~mask]\n",
    "    if reuse_split !=None:\n",
    "        print \"using reuse split\"\n",
    "        Xtrain, Xtest, ytrain, ytest = reuse_split['Xtrain'], reuse_split['Xtest'], reuse_split['ytrain'], reuse_split['ytest']\n",
    "    if parameters:\n",
    "        clf = cv_optimize(clf, parameters, Xtrain, ytrain, n_jobs=n_jobs, n_folds=n_folds, score_func=score_func)\n",
    "    clf=clf.fit(Xtrain, ytrain)\n",
    "    training_accuracy = clf.score(Xtrain, ytrain)\n",
    "    test_accuracy = clf.score(Xtest, ytest)\n",
    "    print \"############# based on standard predict ################\"\n",
    "    print \"Accuracy on training data: %0.2f\" % (training_accuracy)\n",
    "    print \"Accuracy on test data:     %0.2f\" % (test_accuracy)\n",
    "    print confusion_matrix(ytest, clf.predict(Xtest))\n",
    "    print \"########################################################\"\n",
    "    return clf, Xtrain, ytrain, Xtest, ytest\n"
   ]
  },
  {
   "cell_type": "markdown",
   "metadata": {},
   "source": [
    "## Performance  - ROC, Precision, Recall, Confusion Matrix"
   ]
  },
  {
   "cell_type": "code",
   "execution_count": 15,
   "metadata": {
    "collapsed": false
   },
   "outputs": [],
   "source": [
    "def plot_roc(clf,Xtest,ytest):\n",
    "    # Plot of a ROC curve for a specific class\n",
    "    y_score = pd.DataFrame(clf.predict_proba(Xtest))[1]\n",
    "    fpr,tpr,thresholds = metric.roc_curve(ytest,y_score)\n",
    "\n",
    "    import matplotlib.pyplot as plt\n",
    "    plt.figure()\n",
    "    plt.plot(fpr, tpr)\n",
    "    plt.plot([0, 1], [0, 1], 'k--')\n",
    "    plt.xlim([0.0, 1.0])\n",
    "    plt.ylim([0.0, 1.05])\n",
    "    plt.xlabel('False Positive Rate')\n",
    "    plt.ylabel('True Positive Rate')\n",
    "    plt.title('Receiver operating characteristic Curve')\n",
    "    plt.legend(loc=\"lower right\")\n",
    "    plt.show()\n",
    "\n",
    "    print 'Area under ROC: ',metric.roc_auc_score(ytest,y_score)\n",
    "\n",
    "def print_precision_recall(clf,Xtest,ytest):\n",
    "    print 'Precision, Recall, Fscore:'\n",
    "    print metric.precision_recall_fscore_support(ytest,clf.predict(Xtest),average='binary')\n",
    "    \n",
    "def print_confusion_matrix(clf,Xtest,ytest):\n",
    "    print 'Confusion Matrix:'\n",
    "    print confusion_matrix(ytest, clf.predict(Xtest), labels=[1,0])"
   ]
  },
  {
   "cell_type": "code",
   "execution_count": 10,
   "metadata": {
    "collapsed": true
   },
   "outputs": [],
   "source": [
    "def classifier_performance(clf,Xtest,ytest):\n",
    "    plot_roc(clf,Xtest,ytest)\n",
    "    print_precision_recall(clf,Xtest,ytest)\n",
    "    print_confusion_matrix(clf,Xtest,ytest)"
   ]
  },
  {
   "cell_type": "markdown",
   "metadata": {},
   "source": [
    "## Main Code"
   ]
  },
  {
   "cell_type": "code",
   "execution_count": 20,
   "metadata": {
    "collapsed": false
   },
   "outputs": [
    {
     "name": "stdout",
     "output_type": "stream",
     "text": [
      "% Project Success in training data: 0.299844971624\n",
      "% Project Success in test data: 0.298998620111\n",
      "using mask\n",
      "BEST {'min_samples_split': 3, 'n_estimators': 20} 0.837284244377 [mean: 0.72095, std: 0.07755, params: {'min_samples_split': 1, 'n_estimators': 20}, mean: 0.76475, std: 0.13350, params: {'min_samples_split': 2, 'n_estimators': 20}, mean: 0.83728, std: 0.13286, params: {'min_samples_split': 3, 'n_estimators': 20}, mean: 0.80080, std: 0.10742, params: {'min_samples_split': 4, 'n_estimators': 20}, mean: 0.77022, std: 0.11127, params: {'min_samples_split': 6, 'n_estimators': 20}]\n",
      "############# based on standard predict ################\n",
      "Accuracy on training data: 0.98\n",
      "Accuracy on test data:     0.74\n",
      "[[ 36929  64262]\n",
      " [ 24600 212642]]\n",
      "########################################################\n"
     ]
    },
    {
     "name": "stderr",
     "output_type": "stream",
     "text": [
      "C:\\Users\\mjanyavula\\AppData\\Local\\Continuum\\Anaconda2\\lib\\site-packages\\ipykernel\\__main__.py:42: FutureWarning: comparison to `None` will result in an elementwise object comparison in the future.\n"
     ]
    },
    {
     "data": {
      "image/png": "[encoded data removed]",
      "text/plain": [
       "<matplotlib.figure.Figure at 0x4acfeb00>"
      ]
     },
     "metadata": {},
     "output_type": "display_data"
    },
    {
     "name": "stdout",
     "output_type": "stream",
     "text": [
      "Area under ROC:  0.743007002469\n",
      "Precision, Recall, Fscore:\n",
      "(0.76792679051223534, 0.8963084108210182, 0.82716582449343179, None)\n",
      "Confusion Matrix:\n",
      "[[212642  24600]\n",
      " [ 64262  36929]]\n"
     ]
    }
   ],
   "source": [
    "# Load projects data from csv\n",
    "projects = load_projects()\n",
    "\n",
    "# Wrangle Data \n",
    "projects, projects_label = data_wrangling(projects)\n",
    "\n",
    "# Get input features to be used on a model\n",
    "feature_array = prepare_features(projects,projects_label)\n",
    "\n",
    "# Prepare Training and testing Data ( 60% training and 40% testing)\n",
    "mask = create_train_test_data(projects_label,0.60)\n",
    "\n",
    "# Define and Run Random Forest model over the specified parameters (GridSearchCV)\n",
    "from sklearn.ensemble import RandomForestClassifier\n",
    "clfForest = RandomForestClassifier()\n",
    "\n",
    "# Define all parameters to be used while doing a GridSearchCV to find the best for the classifier\n",
    "parameters = {\"n_estimators\": range(20, 40), \"min_samples_split\":[1,2,4,6], \"max_depth\":range(20, 50)}\n",
    "clfForest, Xtrain, ytrain, Xtest, ytest = do_classify(clfForest, parameters, \n",
    "                                                       projects, feature_array,'funding_status', 'completed', mask=mask, \n",
    "                                                       n_jobs = 4, score_func='f1')\n",
    "\n",
    "# Performance results - ROC, AUC, Precision, Recall, Confusion Matrix\n",
    "classifier_performance(clfForest,Xtest,ytest)"
   ]
  }
 ],
 "metadata": {
  "kernelspec": {
   "display_name": "Python 2",
   "language": "python",
   "name": "python2"
  },
  "language_info": {
   "codemirror_mode": {
    "name": "ipython",
    "version": 2
   },
   "file_extension": ".py",
   "mimetype": "text/x-python",
   "name": "python",
   "nbconvert_exporter": "python",
   "pygments_lexer": "ipython2",
   "version": "2.7.11"
  }
 },
 "nbformat": 4,
 "nbformat_minor": 0
}
